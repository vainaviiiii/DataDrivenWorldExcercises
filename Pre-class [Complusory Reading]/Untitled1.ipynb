{
 "cells": [
  {
   "cell_type": "code",
   "execution_count": 6,
   "id": "09d2a91b",
   "metadata": {},
   "outputs": [
    {
     "data": {
      "text/plain": [
       "'[-23.7, 2.0, 6.7, 8.0, 23.0, 24.0]'"
      ]
     },
     "execution_count": 6,
     "metadata": {},
     "output_type": "execute_result"
    }
   ],
   "source": [
    "def sortnumber2():\n",
    "    if value == \"\":\n",
    "        window.alert(\"Your textbox is empty\")\n",
    "        return value \n",
    "    value_list = value.split(',')\n",
    "    values = [float(x.strip()) for x in value_list]\n",
    "    n = len(values)\n",
    "    for outer_pass in range(1,n):\n",
    "        for j in range(1,n):\n",
    "            if values[j-1] > values[j]:\n",
    "                values[j-1], values[j] = values[j], values[j-1]\n",
    "    array_str = str(values)\n",
    "    return array_str\n",
    "    \n",
    "    \n",
    "value = \"23.0,-23.7,24,6.7,8,2\"\n",
    "sortnumber2()"
   ]
  },
  {
   "cell_type": "code",
   "execution_count": null,
   "id": "2c238f2e",
   "metadata": {},
   "outputs": [],
   "source": []
  }
 ],
 "metadata": {
  "kernelspec": {
   "display_name": "Python 3",
   "language": "python",
   "name": "python3"
  },
  "language_info": {
   "codemirror_mode": {
    "name": "ipython",
    "version": 3
   },
   "file_extension": ".py",
   "mimetype": "text/x-python",
   "name": "python",
   "nbconvert_exporter": "python",
   "pygments_lexer": "ipython3",
   "version": "3.8.8"
  }
 },
 "nbformat": 4,
 "nbformat_minor": 5
}
