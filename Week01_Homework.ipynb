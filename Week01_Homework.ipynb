{
 "cells": [
  {
   "cell_type": "markdown",
   "metadata": {
    "colab_type": "text",
    "deletable": false,
    "editable": false,
    "id": "AtcipLV1Htom",
    "nbgrader": {
     "grade": false,
     "locked": true,
     "solution": false
    }
   },
   "source": [
    "# Week 1 Problem Set\n",
    "## Homework\n",
    "\n",
    "**HW0.** Write a function `palindrome(s)`to check if the string `s` is a [Palindrome](https://en.wikipedia.org/wiki/Palindrome). Use iteration for this solution.\n"
   ]
  },
  {
   "cell_type": "code",
   "execution_count": 29,
   "metadata": {
    "collapsed": true
   },
   "outputs": [],
   "source": [
    "def palindrome(s):\n",
    "    if s == s[::-1]:\n",
    "        return True\n",
    "    else:\n",
    "        return False"
   ]
  },
  {
   "cell_type": "code",
   "execution_count": 27,
   "metadata": {
    "collapsed": true,
    "deletable": false,
    "editable": false,
    "nbgrader": {
     "grade": true,
     "grade_id": "hw01",
     "locked": true,
     "points": "1",
     "solution": false
    }
   },
   "outputs": [],
   "source": [
    "assert not palindrome(\"moon\") \n",
    "assert palindrome(\"noon\") \n",
    "assert palindrome(\"a a\") \n",
    "assert palindrome(\"ada\") \n",
    "assert not palindrome(\"ad a\") "
   ]
  },
  {
   "cell_type": "markdown",
   "metadata": {
    "deletable": false,
    "editable": false,
    "nbgrader": {
     "grade": false,
     "locked": true,
     "solution": false
    }
   },
   "source": [
    "**HW1.** Create a function to implement **Bubble Sort Algorithm version 2**. You can check the pseudocode in [Bubble Sort and Insertion Sort](https://github.com/Data-Driven-World/d2w_notes/blob/master/BubbleSort_InsertionSort.ipynb). \n",
    "\n",
    "The function should ...\n",
    "\n",
    "- **modify/mutate** an existing array into a sorted one\n",
    "- **return** the number of comparisons made\n",
    "\n",
    "Hint: To count the number of comparisons made you can simply increment an integer variable (counter) right before the `if` statement."
   ]
  },
  {
   "cell_type": "code",
   "execution_count": 11,
   "metadata": {
    "colab": {
     "base_uri": "https://localhost:8080/",
     "height": 34
    },
    "colab_type": "code",
    "collapsed": true,
    "executionInfo": {
     "elapsed": 855,
     "status": "ok",
     "timestamp": 1572598015388,
     "user": {
      "displayName": "Oka Kurniawan",
      "photoUrl": "https://lh3.googleusercontent.com/a-/AAuE7mAnRP7A15yGfrraUO-0BiNVbNmYjI2f9jaZikjr=s64",
      "userId": "05233922875329103764"
     },
     "user_tz": -480
    },
    "id": "vD-lvxBgHv-O",
    "nbgrader": {
     "grade": false,
     "locked": false,
     "solution": false
    },
    "outputId": "bf1284a5-8859-47fb-db56-b97d35f7ec6a"
   },
   "outputs": [],
   "source": [
    "def bubble_sort(array):\n",
    "    n=len(array)\n",
    "    count = 0\n",
    "    swap=True\n",
    "    while swap == True:\n",
    "        swap = False\n",
    "        for i in range(1,n):\n",
    "            count+=1\n",
    "            print(array)\n",
    "            if array[i] < array[i-1]:\n",
    "                array[i], array[i-1]= array[i-1], array[i]\n",
    "                swap=True\n",
    "    return count"
   ]
  },
  {
   "cell_type": "code",
   "execution_count": 12,
   "metadata": {
    "deletable": false,
    "editable": false,
    "nbgrader": {
     "grade": true,
     "grade_id": "hw11",
     "locked": true,
     "points": "1",
     "solution": false
    }
   },
   "outputs": [
    {
     "name": "stdout",
     "output_type": "stream",
     "text": [
      "[10, 3, 8, 47, 1, 0, -39, 8, 4, 7, 6, -5]\n",
      "[3, 10, 8, 47, 1, 0, -39, 8, 4, 7, 6, -5]\n",
      "[3, 8, 10, 47, 1, 0, -39, 8, 4, 7, 6, -5]\n",
      "[3, 8, 10, 47, 1, 0, -39, 8, 4, 7, 6, -5]\n",
      "[3, 8, 10, 1, 47, 0, -39, 8, 4, 7, 6, -5]\n",
      "[3, 8, 10, 1, 0, 47, -39, 8, 4, 7, 6, -5]\n",
      "[3, 8, 10, 1, 0, -39, 47, 8, 4, 7, 6, -5]\n",
      "[3, 8, 10, 1, 0, -39, 8, 47, 4, 7, 6, -5]\n",
      "[3, 8, 10, 1, 0, -39, 8, 4, 47, 7, 6, -5]\n",
      "[3, 8, 10, 1, 0, -39, 8, 4, 7, 47, 6, -5]\n",
      "[3, 8, 10, 1, 0, -39, 8, 4, 7, 6, 47, -5]\n",
      "[3, 8, 10, 1, 0, -39, 8, 4, 7, 6, -5, 47]\n",
      "[3, 8, 10, 1, 0, -39, 8, 4, 7, 6, -5, 47]\n",
      "[3, 8, 10, 1, 0, -39, 8, 4, 7, 6, -5, 47]\n",
      "[3, 8, 1, 10, 0, -39, 8, 4, 7, 6, -5, 47]\n",
      "[3, 8, 1, 0, 10, -39, 8, 4, 7, 6, -5, 47]\n",
      "[3, 8, 1, 0, -39, 10, 8, 4, 7, 6, -5, 47]\n",
      "[3, 8, 1, 0, -39, 8, 10, 4, 7, 6, -5, 47]\n",
      "[3, 8, 1, 0, -39, 8, 4, 10, 7, 6, -5, 47]\n",
      "[3, 8, 1, 0, -39, 8, 4, 7, 10, 6, -5, 47]\n",
      "[3, 8, 1, 0, -39, 8, 4, 7, 6, 10, -5, 47]\n",
      "[3, 8, 1, 0, -39, 8, 4, 7, 6, -5, 10, 47]\n",
      "[3, 8, 1, 0, -39, 8, 4, 7, 6, -5, 10, 47]\n",
      "[3, 8, 1, 0, -39, 8, 4, 7, 6, -5, 10, 47]\n",
      "[3, 1, 8, 0, -39, 8, 4, 7, 6, -5, 10, 47]\n",
      "[3, 1, 0, 8, -39, 8, 4, 7, 6, -5, 10, 47]\n",
      "[3, 1, 0, -39, 8, 8, 4, 7, 6, -5, 10, 47]\n",
      "[3, 1, 0, -39, 8, 8, 4, 7, 6, -5, 10, 47]\n",
      "[3, 1, 0, -39, 8, 4, 8, 7, 6, -5, 10, 47]\n",
      "[3, 1, 0, -39, 8, 4, 7, 8, 6, -5, 10, 47]\n",
      "[3, 1, 0, -39, 8, 4, 7, 6, 8, -5, 10, 47]\n",
      "[3, 1, 0, -39, 8, 4, 7, 6, -5, 8, 10, 47]\n",
      "[3, 1, 0, -39, 8, 4, 7, 6, -5, 8, 10, 47]\n",
      "[3, 1, 0, -39, 8, 4, 7, 6, -5, 8, 10, 47]\n",
      "[1, 3, 0, -39, 8, 4, 7, 6, -5, 8, 10, 47]\n",
      "[1, 0, 3, -39, 8, 4, 7, 6, -5, 8, 10, 47]\n",
      "[1, 0, -39, 3, 8, 4, 7, 6, -5, 8, 10, 47]\n",
      "[1, 0, -39, 3, 8, 4, 7, 6, -5, 8, 10, 47]\n",
      "[1, 0, -39, 3, 4, 8, 7, 6, -5, 8, 10, 47]\n",
      "[1, 0, -39, 3, 4, 7, 8, 6, -5, 8, 10, 47]\n",
      "[1, 0, -39, 3, 4, 7, 6, 8, -5, 8, 10, 47]\n",
      "[1, 0, -39, 3, 4, 7, 6, -5, 8, 8, 10, 47]\n",
      "[1, 0, -39, 3, 4, 7, 6, -5, 8, 8, 10, 47]\n",
      "[1, 0, -39, 3, 4, 7, 6, -5, 8, 8, 10, 47]\n",
      "[1, 0, -39, 3, 4, 7, 6, -5, 8, 8, 10, 47]\n",
      "[0, 1, -39, 3, 4, 7, 6, -5, 8, 8, 10, 47]\n",
      "[0, -39, 1, 3, 4, 7, 6, -5, 8, 8, 10, 47]\n",
      "[0, -39, 1, 3, 4, 7, 6, -5, 8, 8, 10, 47]\n",
      "[0, -39, 1, 3, 4, 7, 6, -5, 8, 8, 10, 47]\n",
      "[0, -39, 1, 3, 4, 7, 6, -5, 8, 8, 10, 47]\n",
      "[0, -39, 1, 3, 4, 6, 7, -5, 8, 8, 10, 47]\n",
      "[0, -39, 1, 3, 4, 6, -5, 7, 8, 8, 10, 47]\n",
      "[0, -39, 1, 3, 4, 6, -5, 7, 8, 8, 10, 47]\n",
      "[0, -39, 1, 3, 4, 6, -5, 7, 8, 8, 10, 47]\n",
      "[0, -39, 1, 3, 4, 6, -5, 7, 8, 8, 10, 47]\n",
      "[0, -39, 1, 3, 4, 6, -5, 7, 8, 8, 10, 47]\n",
      "[-39, 0, 1, 3, 4, 6, -5, 7, 8, 8, 10, 47]\n",
      "[-39, 0, 1, 3, 4, 6, -5, 7, 8, 8, 10, 47]\n",
      "[-39, 0, 1, 3, 4, 6, -5, 7, 8, 8, 10, 47]\n",
      "[-39, 0, 1, 3, 4, 6, -5, 7, 8, 8, 10, 47]\n",
      "[-39, 0, 1, 3, 4, 6, -5, 7, 8, 8, 10, 47]\n",
      "[-39, 0, 1, 3, 4, -5, 6, 7, 8, 8, 10, 47]\n",
      "[-39, 0, 1, 3, 4, -5, 6, 7, 8, 8, 10, 47]\n",
      "[-39, 0, 1, 3, 4, -5, 6, 7, 8, 8, 10, 47]\n",
      "[-39, 0, 1, 3, 4, -5, 6, 7, 8, 8, 10, 47]\n",
      "[-39, 0, 1, 3, 4, -5, 6, 7, 8, 8, 10, 47]\n",
      "[-39, 0, 1, 3, 4, -5, 6, 7, 8, 8, 10, 47]\n",
      "[-39, 0, 1, 3, 4, -5, 6, 7, 8, 8, 10, 47]\n",
      "[-39, 0, 1, 3, 4, -5, 6, 7, 8, 8, 10, 47]\n",
      "[-39, 0, 1, 3, 4, -5, 6, 7, 8, 8, 10, 47]\n",
      "[-39, 0, 1, 3, 4, -5, 6, 7, 8, 8, 10, 47]\n",
      "[-39, 0, 1, 3, -5, 4, 6, 7, 8, 8, 10, 47]\n",
      "[-39, 0, 1, 3, -5, 4, 6, 7, 8, 8, 10, 47]\n",
      "[-39, 0, 1, 3, -5, 4, 6, 7, 8, 8, 10, 47]\n",
      "[-39, 0, 1, 3, -5, 4, 6, 7, 8, 8, 10, 47]\n",
      "[-39, 0, 1, 3, -5, 4, 6, 7, 8, 8, 10, 47]\n",
      "[-39, 0, 1, 3, -5, 4, 6, 7, 8, 8, 10, 47]\n",
      "[-39, 0, 1, 3, -5, 4, 6, 7, 8, 8, 10, 47]\n",
      "[-39, 0, 1, 3, -5, 4, 6, 7, 8, 8, 10, 47]\n",
      "[-39, 0, 1, 3, -5, 4, 6, 7, 8, 8, 10, 47]\n",
      "[-39, 0, 1, 3, -5, 4, 6, 7, 8, 8, 10, 47]\n",
      "[-39, 0, 1, -5, 3, 4, 6, 7, 8, 8, 10, 47]\n",
      "[-39, 0, 1, -5, 3, 4, 6, 7, 8, 8, 10, 47]\n",
      "[-39, 0, 1, -5, 3, 4, 6, 7, 8, 8, 10, 47]\n",
      "[-39, 0, 1, -5, 3, 4, 6, 7, 8, 8, 10, 47]\n",
      "[-39, 0, 1, -5, 3, 4, 6, 7, 8, 8, 10, 47]\n",
      "[-39, 0, 1, -5, 3, 4, 6, 7, 8, 8, 10, 47]\n",
      "[-39, 0, 1, -5, 3, 4, 6, 7, 8, 8, 10, 47]\n",
      "[-39, 0, 1, -5, 3, 4, 6, 7, 8, 8, 10, 47]\n",
      "[-39, 0, 1, -5, 3, 4, 6, 7, 8, 8, 10, 47]\n",
      "[-39, 0, 1, -5, 3, 4, 6, 7, 8, 8, 10, 47]\n",
      "[-39, 0, -5, 1, 3, 4, 6, 7, 8, 8, 10, 47]\n",
      "[-39, 0, -5, 1, 3, 4, 6, 7, 8, 8, 10, 47]\n",
      "[-39, 0, -5, 1, 3, 4, 6, 7, 8, 8, 10, 47]\n",
      "[-39, 0, -5, 1, 3, 4, 6, 7, 8, 8, 10, 47]\n",
      "[-39, 0, -5, 1, 3, 4, 6, 7, 8, 8, 10, 47]\n",
      "[-39, 0, -5, 1, 3, 4, 6, 7, 8, 8, 10, 47]\n",
      "[-39, 0, -5, 1, 3, 4, 6, 7, 8, 8, 10, 47]\n",
      "[-39, 0, -5, 1, 3, 4, 6, 7, 8, 8, 10, 47]\n",
      "[-39, 0, -5, 1, 3, 4, 6, 7, 8, 8, 10, 47]\n",
      "[-39, 0, -5, 1, 3, 4, 6, 7, 8, 8, 10, 47]\n",
      "[-39, -5, 0, 1, 3, 4, 6, 7, 8, 8, 10, 47]\n",
      "[-39, -5, 0, 1, 3, 4, 6, 7, 8, 8, 10, 47]\n",
      "[-39, -5, 0, 1, 3, 4, 6, 7, 8, 8, 10, 47]\n",
      "[-39, -5, 0, 1, 3, 4, 6, 7, 8, 8, 10, 47]\n",
      "[-39, -5, 0, 1, 3, 4, 6, 7, 8, 8, 10, 47]\n",
      "[-39, -5, 0, 1, 3, 4, 6, 7, 8, 8, 10, 47]\n",
      "[-39, -5, 0, 1, 3, 4, 6, 7, 8, 8, 10, 47]\n",
      "[-39, -5, 0, 1, 3, 4, 6, 7, 8, 8, 10, 47]\n",
      "[-39, -5, 0, 1, 3, 4, 6, 7, 8, 8, 10, 47]\n",
      "[-39, -5, 0, 1, 3, 4, 6, 7, 8, 8, 10, 47]\n",
      "[-39, -5, 0, 1, 3, 4, 6, 7, 8, 8, 10, 47]\n",
      "[-39, -5, 0, 1, 3, 4, 6, 7, 8, 8, 10, 47]\n",
      "[-39, -5, 0, 1, 3, 4, 6, 7, 8, 8, 10, 47]\n",
      "[-39, -5, 0, 1, 3, 4, 6, 7, 8, 8, 10, 47]\n",
      "[-39, -5, 0, 1, 3, 4, 6, 7, 8, 8, 10, 47]\n",
      "[-39, -5, 0, 1, 3, 4, 6, 7, 8, 8, 10, 47]\n",
      "[-39, -5, 0, 1, 3, 4, 6, 7, 8, 8, 10, 47]\n",
      "[-39, -5, 0, 1, 3, 4, 6, 7, 8, 8, 10, 47]\n",
      "[-39, -5, 0, 1, 3, 4, 6, 7, 8, 8, 10, 47]\n",
      "[-39, -5, 0, 1, 3, 4, 6, 7, 8, 8, 10, 47]\n",
      "[-39, -5, 0, 1, 3, 4, 6, 7, 8, 8, 10, 47] 121\n"
     ]
    }
   ],
   "source": [
    "array = [10,3,8,47,1,0,-39,8,4,7,6,-5]\n",
    "count = bubble_sort(array)\n",
    "print(array, count)\n",
    "assert array == [-39, -5, 0, 1, 3, 4, 6, 7, 8, 8, 10, 47]\n",
    "assert count == 121"
   ]
  },
  {
   "cell_type": "code",
   "execution_count": 3,
   "metadata": {
    "collapsed": true,
    "deletable": false,
    "editable": false,
    "nbgrader": {
     "grade": true,
     "grade_id": "hw12",
     "locked": true,
     "points": "1",
     "solution": false
    }
   },
   "outputs": [],
   "source": [
    "###\n",
    "### AUTOGRADER TEST - DO NOT REMOVE\n",
    "###\n"
   ]
  },
  {
   "cell_type": "markdown",
   "metadata": {
    "colab_type": "text",
    "deletable": false,
    "editable": false,
    "id": "2ApF7Ot0JXS4",
    "nbgrader": {
     "grade": false,
     "locked": true,
     "solution": false
    }
   },
   "source": [
    "**HW2.** The solution in HW1 can be improved!\n",
    "\n",
    "The n-th pass places the n-th largest element into its final place (i.e. after 1 cycle, the (1st) largest element will be in its correct position).\n",
    "\n",
    "Hence, we can reduce subsequent iterations by only considering the other (unsorted) `n-1` elements in the array. \n",
    "\n",
    "Implement the algorithm of **Bubble Sort version 4** under [Bubble Sort and Insertion Sort](https://github.com/Data-Driven-World/d2w_notes/blob/master/BubbleSort_InsertionSort.ipynb). \n"
   ]
  },
  {
   "cell_type": "code",
   "execution_count": 17,
   "metadata": {
    "colab": {
     "base_uri": "https://localhost:8080/",
     "height": 34
    },
    "colab_type": "code",
    "collapsed": true,
    "executionInfo": {
     "elapsed": 896,
     "status": "ok",
     "timestamp": 1572598114180,
     "user": {
      "displayName": "Oka Kurniawan",
      "photoUrl": "https://lh3.googleusercontent.com/a-/AAuE7mAnRP7A15yGfrraUO-0BiNVbNmYjI2f9jaZikjr=s64",
      "userId": "05233922875329103764"
     },
     "user_tz": -480
    },
    "id": "Cxkbiq9AJbjS",
    "outputId": "b182fd43-ca89-4ee0-c0ae-515d3bd32b62"
   },
   "outputs": [],
   "source": [
    "def bubble_sort(array):\n",
    "    n=len(array)\n",
    "    count = 0\n",
    "    swap=True\n",
    "    ending = n\n",
    "    while swap == True:\n",
    "        swap = False\n",
    "        for i in range(1,ending):\n",
    "            count+=1\n",
    "            print(array)\n",
    "            if array[i] < array[i-1]:\n",
    "                array[i], array[i-1]= array[i-1], array[i]\n",
    "                swap=True\n",
    "        ending -= 1\n",
    "    return count"
   ]
  },
  {
   "cell_type": "code",
   "execution_count": 18,
   "metadata": {
    "deletable": false,
    "editable": false,
    "nbgrader": {
     "grade": true,
     "grade_id": "hw21",
     "locked": true,
     "points": "1",
     "solution": false
    }
   },
   "outputs": [
    {
     "name": "stdout",
     "output_type": "stream",
     "text": [
      "[10, 3, 8, 47, 1, 0, -39, 8, 4, 7, 6, -5]\n",
      "[3, 10, 8, 47, 1, 0, -39, 8, 4, 7, 6, -5]\n",
      "[3, 8, 10, 47, 1, 0, -39, 8, 4, 7, 6, -5]\n",
      "[3, 8, 10, 47, 1, 0, -39, 8, 4, 7, 6, -5]\n",
      "[3, 8, 10, 1, 47, 0, -39, 8, 4, 7, 6, -5]\n",
      "[3, 8, 10, 1, 0, 47, -39, 8, 4, 7, 6, -5]\n",
      "[3, 8, 10, 1, 0, -39, 47, 8, 4, 7, 6, -5]\n",
      "[3, 8, 10, 1, 0, -39, 8, 47, 4, 7, 6, -5]\n",
      "[3, 8, 10, 1, 0, -39, 8, 4, 47, 7, 6, -5]\n",
      "[3, 8, 10, 1, 0, -39, 8, 4, 7, 47, 6, -5]\n",
      "[3, 8, 10, 1, 0, -39, 8, 4, 7, 6, 47, -5]\n",
      "[3, 8, 10, 1, 0, -39, 8, 4, 7, 6, -5, 47]\n",
      "[3, 8, 10, 1, 0, -39, 8, 4, 7, 6, -5, 47]\n",
      "[3, 8, 10, 1, 0, -39, 8, 4, 7, 6, -5, 47]\n",
      "[3, 8, 1, 10, 0, -39, 8, 4, 7, 6, -5, 47]\n",
      "[3, 8, 1, 0, 10, -39, 8, 4, 7, 6, -5, 47]\n",
      "[3, 8, 1, 0, -39, 10, 8, 4, 7, 6, -5, 47]\n",
      "[3, 8, 1, 0, -39, 8, 10, 4, 7, 6, -5, 47]\n",
      "[3, 8, 1, 0, -39, 8, 4, 10, 7, 6, -5, 47]\n",
      "[3, 8, 1, 0, -39, 8, 4, 7, 10, 6, -5, 47]\n",
      "[3, 8, 1, 0, -39, 8, 4, 7, 6, 10, -5, 47]\n",
      "[3, 8, 1, 0, -39, 8, 4, 7, 6, -5, 10, 47]\n",
      "[3, 8, 1, 0, -39, 8, 4, 7, 6, -5, 10, 47]\n",
      "[3, 1, 8, 0, -39, 8, 4, 7, 6, -5, 10, 47]\n",
      "[3, 1, 0, 8, -39, 8, 4, 7, 6, -5, 10, 47]\n",
      "[3, 1, 0, -39, 8, 8, 4, 7, 6, -5, 10, 47]\n",
      "[3, 1, 0, -39, 8, 8, 4, 7, 6, -5, 10, 47]\n",
      "[3, 1, 0, -39, 8, 4, 8, 7, 6, -5, 10, 47]\n",
      "[3, 1, 0, -39, 8, 4, 7, 8, 6, -5, 10, 47]\n",
      "[3, 1, 0, -39, 8, 4, 7, 6, 8, -5, 10, 47]\n",
      "[3, 1, 0, -39, 8, 4, 7, 6, -5, 8, 10, 47]\n",
      "[1, 3, 0, -39, 8, 4, 7, 6, -5, 8, 10, 47]\n",
      "[1, 0, 3, -39, 8, 4, 7, 6, -5, 8, 10, 47]\n",
      "[1, 0, -39, 3, 8, 4, 7, 6, -5, 8, 10, 47]\n",
      "[1, 0, -39, 3, 8, 4, 7, 6, -5, 8, 10, 47]\n",
      "[1, 0, -39, 3, 4, 8, 7, 6, -5, 8, 10, 47]\n",
      "[1, 0, -39, 3, 4, 7, 8, 6, -5, 8, 10, 47]\n",
      "[1, 0, -39, 3, 4, 7, 6, 8, -5, 8, 10, 47]\n",
      "[1, 0, -39, 3, 4, 7, 6, -5, 8, 8, 10, 47]\n",
      "[0, 1, -39, 3, 4, 7, 6, -5, 8, 8, 10, 47]\n",
      "[0, -39, 1, 3, 4, 7, 6, -5, 8, 8, 10, 47]\n",
      "[0, -39, 1, 3, 4, 7, 6, -5, 8, 8, 10, 47]\n",
      "[0, -39, 1, 3, 4, 7, 6, -5, 8, 8, 10, 47]\n",
      "[0, -39, 1, 3, 4, 7, 6, -5, 8, 8, 10, 47]\n",
      "[0, -39, 1, 3, 4, 6, 7, -5, 8, 8, 10, 47]\n",
      "[0, -39, 1, 3, 4, 6, -5, 7, 8, 8, 10, 47]\n",
      "[-39, 0, 1, 3, 4, 6, -5, 7, 8, 8, 10, 47]\n",
      "[-39, 0, 1, 3, 4, 6, -5, 7, 8, 8, 10, 47]\n",
      "[-39, 0, 1, 3, 4, 6, -5, 7, 8, 8, 10, 47]\n",
      "[-39, 0, 1, 3, 4, 6, -5, 7, 8, 8, 10, 47]\n",
      "[-39, 0, 1, 3, 4, 6, -5, 7, 8, 8, 10, 47]\n",
      "[-39, 0, 1, 3, 4, -5, 6, 7, 8, 8, 10, 47]\n",
      "[-39, 0, 1, 3, 4, -5, 6, 7, 8, 8, 10, 47]\n",
      "[-39, 0, 1, 3, 4, -5, 6, 7, 8, 8, 10, 47]\n",
      "[-39, 0, 1, 3, 4, -5, 6, 7, 8, 8, 10, 47]\n",
      "[-39, 0, 1, 3, 4, -5, 6, 7, 8, 8, 10, 47]\n",
      "[-39, 0, 1, 3, -5, 4, 6, 7, 8, 8, 10, 47]\n",
      "[-39, 0, 1, 3, -5, 4, 6, 7, 8, 8, 10, 47]\n",
      "[-39, 0, 1, 3, -5, 4, 6, 7, 8, 8, 10, 47]\n",
      "[-39, 0, 1, 3, -5, 4, 6, 7, 8, 8, 10, 47]\n",
      "[-39, 0, 1, -5, 3, 4, 6, 7, 8, 8, 10, 47]\n",
      "[-39, 0, 1, -5, 3, 4, 6, 7, 8, 8, 10, 47]\n",
      "[-39, 0, 1, -5, 3, 4, 6, 7, 8, 8, 10, 47]\n",
      "[-39, 0, -5, 1, 3, 4, 6, 7, 8, 8, 10, 47]\n",
      "[-39, 0, -5, 1, 3, 4, 6, 7, 8, 8, 10, 47]\n",
      "[-39, -5, 0, 1, 3, 4, 6, 7, 8, 8, 10, 47]\n",
      "[-39, -5, 0, 1, 3, 4, 6, 7, 8, 8, 10, 47] 66\n"
     ]
    }
   ],
   "source": [
    "array = [10,3,8,47,1,0,-39,8,4,7,6,-5]\n",
    "count = bubble_sort(array)\n",
    "print(array, count)\n",
    "assert array == [-39, -5, 0, 1, 3, 4, 6, 7, 8, 8, 10, 47]\n",
    "assert count == 66"
   ]
  },
  {
   "cell_type": "code",
   "execution_count": 6,
   "metadata": {
    "collapsed": true,
    "deletable": false,
    "editable": false,
    "nbgrader": {
     "grade": true,
     "grade_id": "hw22",
     "locked": true,
     "points": "1",
     "solution": false
    }
   },
   "outputs": [],
   "source": [
    "###\n",
    "### AUTOGRADER TEST - DO NOT REMOVE\n",
    "###\n"
   ]
  }
 ],
 "metadata": {
  "kernelspec": {
   "display_name": "Python 3 [3.7]",
   "language": "python",
   "name": "python3"
  },
  "language_info": {
   "codemirror_mode": {
    "name": "ipython",
    "version": 3
   },
   "file_extension": ".py",
   "mimetype": "text/x-python",
   "name": "python",
   "nbconvert_exporter": "python",
   "pygments_lexer": "ipython3",
   "version": "3.7.5"
  }
 },
 "nbformat": 4,
 "nbformat_minor": 4
}
