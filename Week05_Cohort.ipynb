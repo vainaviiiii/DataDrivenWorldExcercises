{
 "cells": [
  {
   "cell_type": "markdown",
   "metadata": {
    "colab_type": "text",
    "deletable": false,
    "editable": false,
    "id": "0jA6_haHgo2y",
    "nbgrader": {
     "grade": false,
     "locked": true,
     "solution": false
    }
   },
   "source": [
    "# Week 5 Problem Set\n",
    "\n",
    "## Cohort Sessions"
   ]
  },
  {
   "cell_type": "markdown",
   "metadata": {
    "colab_type": "text",
    "deletable": false,
    "editable": false,
    "id": "GvaH3A6rgr9d",
    "nbgrader": {
     "grade": false,
     "locked": true,
     "solution": false
    }
   },
   "source": [
    "**CS1.** *Dictionary:* Implement a Graph using a *Dictionary* where the keys are the Vertices in the Graph and the values (in the the key-value pair) correspond to an Array containing the neighbouring Vertices. For example, let's represent the following graph:\n",
    "```\n",
    "    A -> B\n",
    "    A -> C\n",
    "    B -> C\n",
    "    B -> D\n",
    "    C -> D\n",
    "    D -> C\n",
    "    E -> F\n",
    "    F -> C\n",
    "```\n",
    "Create a Dictionary to represent the graph above."
   ]
  },
  {
   "cell_type": "code",
   "execution_count": 4,
   "metadata": {
    "colab": [],
    "colab_type": "code",
    "collapsed": true,
    "id": "Du0SDL0ignua",
    "nbgrader": {
     "grade": false,
     "locked": false,
     "solution": false
    }
   },
   "outputs": [],
   "source": [
    "# replace the None with a dictionary representing the graph\n",
    "graph = { 'A': ['B', 'C'], \n",
    "          'B': ['C', 'D'],\n",
    "          'C': ['D'],\n",
    "          'D': ['C'],\n",
    "          'E': ['F'],\n",
    "          'F': ['C']  }\n"
   ]
  },
  {
   "cell_type": "code",
   "execution_count": 5,
   "metadata": {
    "colab": {
     "base_uri": "https://localhost:8080/",
     "height": 34
    },
    "colab_type": "code",
    "deletable": false,
    "editable": false,
    "id": "b2jme-mXg_YF",
    "nbgrader": {
     "grade": false,
     "locked": true,
     "solution": false
    },
    "outputId": "e1120100-3b19-4277-b840-175fb2ff0e07"
   },
   "outputs": [
    {
     "name": "stdout",
     "output_type": "stream",
     "text": [
      "{'A': ['B', 'C'], 'B': ['C', 'D'], 'C': ['D'], 'D': ['C'], 'E': ['F'], 'F': ['C']}\n"
     ]
    }
   ],
   "source": [
    "print(graph)"
   ]
  },
  {
   "cell_type": "markdown",
   "metadata": {
    "colab_type": "text",
    "deletable": false,
    "editable": false,
    "id": "M4_djDcXhGBd",
    "nbgrader": {
     "grade": false,
     "locked": true,
     "solution": false
    }
   },
   "source": [
    "Write a function `get_neighbours(graph, vert)` which returns a list of all neighbours of the requested Vertex `vert` in the `graph`. Return `None` if the Vertex is not in the graph."
   ]
  },
  {
   "cell_type": "code",
   "execution_count": 6,
   "metadata": {
    "colab": [],
    "colab_type": "code",
    "collapsed": true,
    "id": "0IuyrlmNhCok"
   },
   "outputs": [],
   "source": [
    "def get_neighbours(graph, vert):\n",
    "    res = graph.get(vert, None)\n",
    "    return res"
   ]
  },
  {
   "cell_type": "code",
   "execution_count": 7,
   "metadata": {
    "colab": [],
    "colab_type": "code",
    "collapsed": true,
    "deletable": false,
    "editable": false,
    "id": "RXLzEJPzhrF7",
    "nbgrader": {
     "grade": true,
     "grade_id": "cs11",
     "locked": true,
     "points": "1",
     "solution": false
    }
   },
   "outputs": [],
   "source": [
    "assert get_neighbours(graph, \"B\") == [\"C\", \"D\"]\n",
    "assert get_neighbours(graph, \"A\") == [\"B\", \"C\"]\n",
    "assert get_neighbours(graph, \"F\") == [\"C\"]"
   ]
  },
  {
   "cell_type": "code",
   "execution_count": 8,
   "metadata": {
    "collapsed": true,
    "deletable": false,
    "editable": false,
    "nbgrader": {
     "grade": true,
     "grade_id": "cs12",
     "locked": true,
     "points": "1",
     "solution": false
    }
   },
   "outputs": [],
   "source": [
    "###\n",
    "### AUTOGRADER TEST - DO NOT REMOVE\n",
    "###\n"
   ]
  },
  {
   "cell_type": "markdown",
   "metadata": {
    "colab_type": "text",
    "deletable": false,
    "editable": false,
    "id": "BzqZhacxiYfV",
    "nbgrader": {
     "grade": false,
     "locked": true,
     "solution": false
    }
   },
   "source": [
    "Write a function `get_source(graph, vert)` which returns a list of all source Vertices pointing to `vert` in the `graph`. For example, Vertex \"C\" has the following source Vertices: `[\"A\", \"B\", \"D\", \"F\"]. Return an empty list if there are none."
   ]
  },
  {
   "cell_type": "code",
   "execution_count": 9,
   "metadata": {
    "colab": [],
    "colab_type": "code",
    "collapsed": true,
    "id": "W6PepA1_ig3h"
   },
   "outputs": [],
   "source": [
    "def get_source(graph, vert):\n",
    "    sources = []\n",
    "    for (key, value) in graph.items():\n",
    "        if vert in value:\n",
    "            sources.append(key)\n",
    "    \n",
    "    return sources"
   ]
  },
  {
   "cell_type": "code",
   "execution_count": 10,
   "metadata": {
    "colab": [],
    "colab_type": "code",
    "collapsed": true,
    "deletable": false,
    "editable": false,
    "id": "TgpCSdtJi3sx",
    "nbgrader": {
     "grade": true,
     "grade_id": "cs13",
     "locked": true,
     "points": "1",
     "solution": false
    }
   },
   "outputs": [],
   "source": [
    "assert sorted(get_source(graph, \"C\")) == [\"A\", \"B\", \"D\", \"F\"]\n",
    "assert sorted(get_source(graph, \"D\")) == [\"B\", \"C\"]\n",
    "assert sorted(get_source(graph, \"F\")) == [\"E\"]"
   ]
  },
  {
   "cell_type": "code",
   "execution_count": 11,
   "metadata": {
    "collapsed": true,
    "deletable": false,
    "editable": false,
    "nbgrader": {
     "grade": true,
     "grade_id": "cs14",
     "locked": true,
     "points": "1",
     "solution": false
    }
   },
   "outputs": [],
   "source": [
    "###\n",
    "### AUTOGRADER TEST - DO NOT REMOVE\n",
    "###\n"
   ]
  },
  {
   "cell_type": "markdown",
   "metadata": {
    "colab_type": "text",
    "deletable": false,
    "editable": false,
    "id": "dm-fsmj4j5zo",
    "nbgrader": {
     "grade": false,
     "locked": true,
     "solution": false
    }
   },
   "source": [
    "**CS2.** Create a class `Vertex` to represent a vertex in a graph. The class `Vertex` has the following attributes:\n",
    "- `id`: to identify each vertex. This is of String data type.\n",
    "- `neighbours`: which is a Dictionary where the keys are the neighbouring `Vertex` object instances that are connected to the current Vertex and the values are the weights of the edge between the current Vertex and the neighbouring vertices. \n",
    "\n",
    "The class should also have the following methods:\n",
    "\n",
    "- `__init__(self, id)`: which is used to initialized the attribute `id`. By default, `id` is set to an empty String . The attribute `neighbours` is always set to an empty dictionary.\n",
    "- `add_neighbour(self, nbr_vertex, weight)`: which adds a neighbouring Vertex to the current Vertex. The second argument provides the weight of the edge between the current Vertex and the newly added neighbouring Vertex. By default, `weight` is `0`.\n",
    "- `get_neigbours(self)`: which returns all the Vertices connected to the current Vertex as a list. The elements of the output list are of `Vertex` object instances.\n",
    "- `get_weight(self, neighbour)`: which returns the weight of the requested neighbour. It should return `None` if the requested neighbour is not found.\n",
    "- `__eq__(self, other)`: which returns true if the id of the current vertex object is the same as the `other` vertex's id. \n",
    "- `__lt__(self, other)`: which returns true if the id of the current vertex object is less than the `other` vertex's id.\n",
    "- `__hash__(self)`: which calls the `hash()` function on `id` and returns it. This allows the object to be a dictionary key.\n",
    "- `__str__(self)`: This method should return the id of the current vertex and a list of `id`s of the neighbouring vertices, like `Vertex 2 is connected to: 3, 4, 5.`"
   ]
  },
  {
   "cell_type": "code",
   "execution_count": 16,
   "metadata": {
    "colab": [],
    "colab_type": "code",
    "id": "htPcbL_6k4IS"
   },
   "outputs": [],
   "source": [
    "class Vertex:\n",
    "    def __init__(self, id=\"\"):\n",
    "        self.id = id\n",
    "        self.neighbours = {}\n",
    "    \n",
    "    def add_neighbour(self, nbr_vertex, weight=0):\n",
    "        self.neighbours[nbr_vertex] = weight\n",
    "        \n",
    "    \n",
    "    def get_neighbours(self):\n",
    "        return list(self.neighbours.keys())\n",
    "    \n",
    "    def get_weight(self, neighbour):\n",
    "        weight = self.neighbours.get(neighbour, None)\n",
    "        return weight\n",
    "    \n",
    "    def __eq__(self, other):\n",
    "        print(\"equal method is called\")\n",
    "        return self.id == other.id \n",
    "    \n",
    "    \n",
    "    def __lt__(self, other):\n",
    "        return self.id < other.id\n",
    "    \n",
    "    def __hash__(self):\n",
    "        print(\"hash method is called \", self.id)\n",
    "        return hash(self.id)\n",
    "\n",
    "    \n",
    "    def __str__(self):\n",
    "        return \"Vertex {self.id} is connected to: \".format(self=self) + \", \".join([x.id for x in self.get_neighbours()])       \n",
    "\n",
    "    "
   ]
  },
  {
   "cell_type": "code",
   "execution_count": 17,
   "metadata": {
    "colab": [],
    "colab_type": "code",
    "deletable": false,
    "editable": false,
    "id": "hvmNLMuTnADW",
    "nbgrader": {
     "grade": true,
     "grade_id": "cs21",
     "locked": true,
     "points": "1",
     "solution": false
    }
   },
   "outputs": [
    {
     "name": "stdout",
     "output_type": "stream",
     "text": [
      "hash method is called  2\n",
      "hash method is called  2\n",
      "hash method is called  3\n",
      "hash method is called  3\n",
      "hash method is called  4\n",
      "equal method is called\n"
     ]
    }
   ],
   "source": [
    "v1 = Vertex(\"1\")\n",
    "assert v1.id == \"1\" and len(v1.neighbours) == 0\n",
    "v2 = Vertex(\"2\")\n",
    "v1.add_neighbour(v2)\n",
    "assert v1.get_neighbours()[0].id == \"2\" and v1.neighbours[v1.get_neighbours()[0]] == 0\n",
    "v3 = Vertex(\"3\")\n",
    "v1.add_neighbour(v3, 3)\n",
    "assert v1.get_weight(v3) == 3\n",
    "v4 = Vertex(\"4\")\n",
    "assert v1.get_weight(v4) == None\n",
    "assert v1 < v2\n",
    "assert v1 != v2\n",
    "assert str(v1) == \"Vertex 1 is connected to: 2, 3\""
   ]
  },
  {
   "cell_type": "code",
   "execution_count": 16,
   "metadata": {
    "collapsed": true,
    "deletable": false,
    "editable": false,
    "nbgrader": {
     "grade": true,
     "grade_id": "cs22",
     "locked": true,
     "points": "1",
     "solution": false
    }
   },
   "outputs": [],
   "source": [
    "###\n",
    "### AUTOGRADER TEST - DO NOT REMOVE\n",
    "###\n"
   ]
  },
  {
   "cell_type": "markdown",
   "metadata": {
    "colab_type": "text",
    "deletable": false,
    "editable": false,
    "id": "ndPXs3Mhn6rg",
    "nbgrader": {
     "grade": false,
     "locked": true,
     "solution": false
    }
   },
   "source": [
    "**CS3.** Create a class `Graph` to represent a Graph. The class has the following attributes:\n",
    "- `vertices`: which is a *dictionary* of Vertices. The keys are the `id`s of the Vertices and the values are `Vertex` object instances.\n",
    "\n",
    "The class has the follo\n",
    "- `num_vertices`: which is a *computed* property that returns the number of vertices in the graph.\n",
    "\n",
    "The class also has the following methods:\n",
    "- `__init__(self)`: which initializes the graph with an empty dictionary.\n",
    "- `_create_vertex(self, id)`: which creates a new `Vertex` object with a given `id`. This method is never called directly and is only used by `add_vertex(id)`.\n",
    "- `add_vertex(self, id)`: which creates a new `Vertex` object, adding it into the dictionary `vertices`. The argument `id` is a String. This method should call `_create_vertex(id)`.\n",
    "- `get_vertex(self, id)`: which returns the `Vertex` object instance of the requested `id`. The method should return `None` if the requested `id` cannot be found. The argument `id` is a String.\n",
    "- `add_edge(start_v, end_v)`: which creates an edge from one Vertex to another Vertex. The arguments are the `id`s of the two vertices and are both Strings.\n",
    "- `get_neighbours(self, id)`: which returns a list of `id`s all the neighbouring vertices (of the specified Vertex `id`). It should return `None` if `id` cannot be found. The argument `id` is a String and the elements of the output list are of `str` data type. \n",
    "- `__contains__(self, id)`: which returns either `True` or `False` depending on whether the graph contains the specified Vertex's `id`. The argument `id` is a String."
   ]
  },
  {
   "cell_type": "code",
   "execution_count": 18,
   "metadata": {
    "colab": [],
    "colab_type": "code",
    "collapsed": true,
    "id": "fChShweEqEtW"
   },
   "outputs": [],
   "source": [
    "class Graph:\n",
    "    def __init__(self):\n",
    "        self.vertices = {} # Dictionary, key = String of Vertex id, value is the Vertex instance\n",
    "        # to get the neighbours of a vertex in this graph: self.vertices[vid].neighbours \n",
    "        \n",
    "    # id: String \n",
    "    # the leading underscore means it is used INTERNALLY in Graph class only \n",
    "    # DO NOT DO THIS: instance._create_vertex   \n",
    "    def _create_vertex(self, id):\n",
    "        ###BEGIN SOLUTION\n",
    "        # create a new Vertex object and return it\n",
    "        return Vertex(id)\n",
    "        ###END SOLUTION\n",
    "        pass\n",
    "    \n",
    "    def add_vertex(self, id):\n",
    "        ###BEGIN SOLUTION\n",
    "        # create a new Vertex object using _create_vertex\n",
    "        v = self._create_vertex(id)\n",
    "        # add it to this instance's vertices attribute \n",
    "        self.vertices[v.id] = v # composition \n",
    "        ###END SOLUTION\n",
    "        pass\n",
    "    \n",
    "    # return the instance of the requested id \n",
    "    def get_vertex(self, id):\n",
    "        ###BEGIN SOLUTION\n",
    "        return self.vertices.get(id, None)\n",
    "        ###END SOLUTION\n",
    "        pass\n",
    "    \n",
    "    # creates an edge from one Vertex to another Vertex. \n",
    "    # The arguments are the `id`s of the two vertices and are both Strings.\n",
    "    # is there a guarantee that start_v and end_v exists in the Graph??\n",
    "        # Nope\n",
    "        # if the vertex with the id start_v or end_v doesnt exist, create it \n",
    "    def add_edge(self, start_v, end_v, weight=0):\n",
    "        ###BEGIN SOLUTION\n",
    "        # check if start_v is in the graph's vertices dictionary\n",
    "        if start_v not in self.vertices.keys():\n",
    "            self.add_vertex(start_v)\n",
    "        \n",
    "        # obtain the instance of Vertex with id start_v\n",
    "        start_vertex = self.vertices[start_v]\n",
    "\n",
    "        # check if end_v is in the graph's vertices dictionary\n",
    "        if end_v not in self.vertices.keys():\n",
    "            self.add_vertex(end_v)\n",
    "        \n",
    "        # obtain the instance of Vertex with id end_v\n",
    "        end_vertex = self.vertices[end_v]\n",
    "\n",
    "        # utilising the add_neighbour method of the Vertex instance\n",
    "        # the info about the \"neighbour\" exist in the Vertex instance with id start_v \n",
    "        start_vertex.add_neighbour(end_vertex, weight)\n",
    "        ###END SOLUTION\n",
    "        pass\n",
    "    \n",
    "    # @args: id is the String of vertex in question \n",
    "    # returns: ids of all neighbouring vertices \n",
    "    def get_neighbours(self, id):\n",
    "        ###BEGIN SOLUTION\n",
    "        v = self.get_vertex(id)\n",
    "        if v is not None: # if v exists in the graph, get all its neighbours \n",
    "            neighbours = v.get_neighbours() # utilising the get_neighbours method in Vertex class instance\n",
    "            neighbours_id = []\n",
    "            for neighbouring_vertex in neighbours:\n",
    "                # neighbouring_vertex is a vertex instance, so extract its id\n",
    "                neighbours_id.append(neighbouring_vertex.id)\n",
    "            return neighbours_id\n",
    "        return None                 \n",
    "        ###END SOLUTION\n",
    "    \n",
    "    # returns True or False if given val (String representing Vertex id) is in the Graph\n",
    "    def __contains__(self, v_id):\n",
    "        ###BEGIN SOLUTION\n",
    "        return v_id in self.vertices.keys()\n",
    "        ###END SOLUTION\n",
    "        pass\n",
    "    \n",
    "    def __iter__(self):\n",
    "        for k,v in self.vertices.items():\n",
    "            yield v \n",
    "        \n",
    "    # write a code to create a computed property called num_vertices\n",
    "    ###BEGIN SOLUTION\n",
    "    @property\n",
    "    def num_vertices(self):\n",
    "        return len(self.vertices)\n",
    "    ###END SOLUTION"
   ]
  },
  {
   "cell_type": "code",
   "execution_count": 19,
   "metadata": {
    "colab": [],
    "colab_type": "code",
    "deletable": false,
    "editable": false,
    "id": "ng6pGDNBf6Y7",
    "nbgrader": {
     "grade": true,
     "grade_id": "cs31",
     "locked": true,
     "points": "1",
     "solution": false
    }
   },
   "outputs": [
    {
     "name": "stdout",
     "output_type": "stream",
     "text": [
      "hash method is called  B\n",
      "hash method is called  C\n",
      "hash method is called  C\n",
      "hash method is called  D\n",
      "hash method is called  D\n",
      "hash method is called  C\n",
      "hash method is called  F\n",
      "hash method is called  C\n"
     ]
    }
   ],
   "source": [
    "g = Graph()\n",
    "assert g.vertices == {} and g.num_vertices == 0\n",
    "g.add_vertex(\"A\")\n",
    "g.add_vertex(\"B\")\n",
    "g.add_vertex(\"C\")\n",
    "g.add_vertex(\"D\")\n",
    "g.add_vertex(\"E\")\n",
    "g.add_vertex(\"F\")\n",
    "assert g.num_vertices == 6\n",
    "assert \"A\" in g\n",
    "assert \"B\" in g\n",
    "assert \"C\" in g\n",
    "assert \"D\" in g\n",
    "assert \"E\" in g\n",
    "assert \"F\" in g\n",
    "g.add_edge(\"A\", \"B\")\n",
    "g.add_edge(\"A\", \"C\")\n",
    "g.add_edge(\"B\", \"C\")\n",
    "g.add_edge(\"B\", \"D\")\n",
    "g.add_edge(\"C\", \"D\")\n",
    "g.add_edge(\"D\", \"C\")\n",
    "g.add_edge(\"E\", \"F\")\n",
    "g.add_edge(\"F\", \"C\")\n",
    "assert sorted(g.get_neighbours(\"A\")) == [\"B\", \"C\"]\n",
    "assert sorted(g.get_neighbours(\"B\")) == [\"C\", \"D\"]\n",
    "assert sorted(g.get_neighbours(\"C\")) == [\"D\"]\n",
    "assert [v.id for v in g] == [\"A\", \"B\", \"C\", \"D\", \"E\", \"F\"]"
   ]
  },
  {
   "cell_type": "code",
   "execution_count": 14,
   "metadata": {
    "collapsed": true,
    "deletable": false,
    "editable": false,
    "nbgrader": {
     "grade": true,
     "grade_id": "cs32",
     "locked": true,
     "points": "1",
     "solution": false
    }
   },
   "outputs": [],
   "source": [
    "###\n",
    "### AUTOGRADER TEST - DO NOT REMOVE\n",
    "###\n"
   ]
  },
  {
   "cell_type": "markdown",
   "metadata": {
    "deletable": false,
    "editable": false,
    "nbgrader": {
     "grade": false,
     "locked": true,
     "solution": false
    }
   },
   "source": [
    "**CS4.** Create a subclass of `Vertex` called `VertexSearch`. This class has the following additional attributes:\n",
    "- `colour`: which is a mark on the vertex during the search algorithm. It is of String data type and should be set to \"white\" by default.\n",
    "- `d`: which is an Integer denoting the distance from other Vertex to the current Vertex in Breath-First-Search. This is also used to record discovery time in Depth-First-Search. This property should be initialized to `sys.maxsize` at the start.\n",
    "- `f`: which is an Integer denoting the final time in Depth-First-Search. This property should be initialized to `sys.maxsize` at the start.\n",
    "- `parent`: which is a reference to the parent Vertex object. This property should be set to `None` at the start."
   ]
  },
  {
   "cell_type": "code",
   "execution_count": 20,
   "metadata": {
    "collapsed": true
   },
   "outputs": [],
   "source": [
    "import sys\n",
    "\n",
    "# VertexSearch INHERITS Vertex\n",
    "# VertexSearch has all Vertex attributes and methods\n",
    "class VertexSearch(Vertex):\n",
    "    \n",
    "    # override init method \n",
    "    def __init__(self, id=\"\"):\n",
    "        ###BEGIN SOLUTION\n",
    "        super().__init__(id) # invoke the superclass (parent class) Vertex's INIT function so we have Vertex's attributes too in VertexSearch instance\n",
    "        self.colour = \"white\"\n",
    "        self.d = sys.maxsize # biggest number in Python int\n",
    "        self._f = sys.maxsize\n",
    "        self._parent = None \n",
    "        ##END SOLUTION\n",
    "        pass\n",
    "\n",
    "    @property \n",
    "    def f(self):\n",
    "        return self._f\n",
    "\n",
    "    @f.setter\n",
    "    def f(self, value):\n",
    "        self._f = value\n",
    "    \n",
    "    @property \n",
    "    def parent(self):\n",
    "        return self._parent\n",
    "    \n",
    "    @parent.setter\n",
    "    def parent(self, value):\n",
    "        self._parent = value\n",
    "\n",
    "\n"
   ]
  },
  {
   "cell_type": "code",
   "execution_count": 21,
   "metadata": {
    "collapsed": true,
    "deletable": false,
    "editable": false,
    "nbgrader": {
     "grade": true,
     "grade_id": "cs41",
     "locked": true,
     "points": "1",
     "solution": false
    }
   },
   "outputs": [],
   "source": [
    "import sys\n",
    "\n",
    "v = VertexSearch()\n",
    "assert v.id == \"\"\n",
    "assert v.colour == \"white\"\n",
    "assert v.d == sys.maxsize\n",
    "assert v.f == sys.maxsize\n",
    "assert v.parent == None"
   ]
  },
  {
   "cell_type": "code",
   "execution_count": 17,
   "metadata": {
    "collapsed": true,
    "deletable": false,
    "editable": false,
    "nbgrader": {
     "grade": true,
     "grade_id": "cs42",
     "locked": true,
     "points": "1",
     "solution": false
    }
   },
   "outputs": [],
   "source": [
    "###\n",
    "### AUTOGRADER TEST - DO NOT REMOVE\n",
    "###\n"
   ]
  },
  {
   "cell_type": "markdown",
   "metadata": {
    "colab_type": "text",
    "deletable": false,
    "editable": false,
    "id": "0pHMdvifh_0h",
    "nbgrader": {
     "grade": false,
     "locked": true,
     "solution": false
    }
   },
   "source": [
    "**CS5.** **You should do this after you completed HW2.** Create a class `Search2D` which takes in an object `GraphSearch` for its initialization. The class should have the following methods:\n",
    "- `clear_vertices()`: which sets the properties of all the vertices:\n",
    "  - `colour` to \"white\"\n",
    "  - `d` to `sys.maxsize`\n",
    "  - `f` to `sys.maxsize`\n",
    "  - `parent` to `None`.\n",
    " \n",
    "\n",
    "\n"
   ]
  },
  {
   "cell_type": "code",
   "execution_count": 22,
   "metadata": {
    "collapsed": true
   },
   "outputs": [],
   "source": [
    "#Copy over GraphSearch from Homework\n",
    "class GraphSearch(Graph):\n",
    "    # overriding the _create_vertex method \n",
    "    def _create_vertex(self, id):\n",
    "        return VertexSearch(id)"
   ]
  },
  {
   "cell_type": "code",
   "execution_count": 23,
   "metadata": {
    "colab": [],
    "colab_type": "code",
    "collapsed": true,
    "id": "mWh412x_iYSK"
   },
   "outputs": [],
   "source": [
    "import sys\n",
    "\n",
    "class Search2D:\n",
    "    def __init__(self, g):\n",
    "        self.graph = g\n",
    "    \n",
    "    def clear_vertices(self):\n",
    "        ###BEGIN SOLUTION\n",
    "        # loop through the graph's vertices (dictionary)\n",
    "        for vid, vertex in self.graph.vertices.items():\n",
    "            # reset all the vertex color, d, f, and parent \n",
    "            vertex.colour = \"white\"\n",
    "            vertex.d = sys.maxsize\n",
    "            vertex.f = sys.maxsize\n",
    "            vertex.parent = None\n",
    "        ###END SOLUTION\n",
    "        pass\n",
    "    \n",
    "    def __iter__(self):\n",
    "        return iter([v for v in self.graph])\n",
    "    \n",
    "    def __len__(self):\n",
    "        return len([v for v in self.graph.vertices])"
   ]
  },
  {
   "cell_type": "code",
   "execution_count": 24,
   "metadata": {
    "colab": {
     "base_uri": "https://localhost:8080/",
     "height": 34
    },
    "colab_type": "code",
    "deletable": false,
    "editable": false,
    "id": "q8DrPuVIqqZT",
    "nbgrader": {
     "grade": true,
     "grade_id": "cs51",
     "locked": true,
     "points": "1",
     "solution": false
    },
    "outputId": "c843b09c-13ba-4ecd-e1af-95943cabe1c0"
   },
   "outputs": [
    {
     "name": "stdout",
     "output_type": "stream",
     "text": [
      "hash method is called  B\n",
      "hash method is called  C\n",
      "hash method is called  C\n",
      "hash method is called  D\n",
      "hash method is called  D\n",
      "hash method is called  C\n",
      "hash method is called  F\n",
      "hash method is called  C\n"
     ]
    }
   ],
   "source": [
    "g4 = GraphSearch()\n",
    "g4.add_vertex(\"A\")\n",
    "g4.add_vertex(\"B\")\n",
    "g4.add_vertex(\"C\")\n",
    "g4.add_vertex(\"D\")\n",
    "g4.add_vertex(\"E\")\n",
    "g4.add_vertex(\"F\")\n",
    "g4.add_edge(\"A\", \"B\")\n",
    "g4.add_edge(\"A\", \"C\")\n",
    "g4.add_edge(\"B\", \"C\")\n",
    "g4.add_edge(\"B\", \"D\")\n",
    "g4.add_edge(\"C\", \"D\")\n",
    "g4.add_edge(\"D\", \"C\")\n",
    "g4.add_edge(\"E\", \"F\")\n",
    "g4.add_edge(\"F\", \"C\")\n",
    "gs4 = Search2D(g4)\n",
    "gs4.clear_vertices()\n",
    "\n",
    "assert len(gs4) == 6\n",
    "assert [v.id for v in gs4] == [\"A\", \"B\", \"C\", \"D\", \"E\", \"F\"]\n",
    "assert [v.colour for v in gs4] == [\"white\" for v in range(len(gs4))]\n",
    "assert [v.d for v in gs4] == [sys.maxsize for v in range(len(gs4))]\n",
    "assert [v.f for v in gs4] == [sys.maxsize for v in range(len(gs4))]\n",
    "assert [v.parent for v in gs4] == [None for v in range(len(gs4))]"
   ]
  },
  {
   "cell_type": "code",
   "execution_count": 21,
   "metadata": {
    "collapsed": true,
    "deletable": false,
    "editable": false,
    "nbgrader": {
     "grade": true,
     "grade_id": "cs52",
     "locked": true,
     "points": "1",
     "solution": false
    }
   },
   "outputs": [],
   "source": [
    "###\n",
    "### AUTOGRADER TEST - DO NOT REMOVE\n",
    "###\n"
   ]
  },
  {
   "cell_type": "markdown",
   "metadata": {
    "deletable": false,
    "editable": false,
    "nbgrader": {
     "grade": false,
     "locked": true,
     "solution": false
    }
   },
   "source": [
    "**CS6.** Create a class `SearchBFS` which is a subclass of `Search2D`. This subclass should implement the Breadth First Search algorithm in the following methods:\n",
    "\n",
    "- `search_from(start)`: which initializes the `d` and `parent` properties of each vertices in the graph from the `start` Vertex following Breadth-First-Search algorithm. Use your previous code that implements `Queue` data structure. \n",
    "- `get_shortest_path(start, dest)`: which returns a list of vertex ids that forms a shortest path from Vertex `start` to Vertex `dest`. Think how to solve this using recursion. This method should call `search_from()` if the distance at `start` Vertex is not zero. It should return a list containing [\"No Path\"] if there is no path from the start to the destination vertex. *Hint: you can make use another function for your recursion `get_path(start, dest, result)` where result is an empty list which will be populated in the recursive calls.*"
   ]
  },
  {
   "cell_type": "code",
   "execution_count": 25,
   "metadata": {
    "colab": [],
    "colab_type": "code",
    "collapsed": true,
    "id": "avdnmGxbiKgR"
   },
   "outputs": [],
   "source": [
    "#Copy over Queue from Wk4 HMWK\n",
    "class Queue:\n",
    "    ###BEGIN SOLUTION\n",
    "    def __init__(self):\n",
    "        self.items = []\n",
    "    \n",
    "    def is_empty(self):\n",
    "        return len(self.items) == 0\n",
    "    \n",
    "    def size(self):\n",
    "        return len(self.items)\n",
    "    \n",
    "    def enqueue(self, item):\n",
    "        self.items.insert(0, item)\n",
    "    \n",
    "    def dequeue(self):\n",
    "        return self.items.pop()\n",
    "    \n",
    "    def peek(self):\n",
    "        return self.items[-1]\n",
    "    ###END SOLUTION\n",
    "    pass"
   ]
  },
  {
   "cell_type": "code",
   "execution_count": 26,
   "metadata": {
    "collapsed": true
   },
   "outputs": [],
   "source": [
    "class SearchBFS(Search2D):\n",
    "\n",
    "    # this is BFS algorithm\n",
    "    # @args: start --> String, id of vertex to start from\n",
    "    def search_from(self, start):\n",
    "        ###BEGIN SOLUTION\n",
    "        # performing BFS algorithm, from start Vertex \n",
    "        # 1. check if start vertex exist in the Graph\n",
    "        start_vertex = self.graph.get_vertex(start)\n",
    "        if start_vertex is None:\n",
    "            return None \n",
    "        \n",
    "        # clear everything\n",
    "        self.clear_vertices()\n",
    "        \n",
    "        # prepare the start_vertex\n",
    "        start_vertex.d = 0\n",
    "\n",
    "        # 2. Instantiate a Queue to be used for BFS \n",
    "        vertices_to_explore_queue = Queue()\n",
    "        vertices_to_explore_queue.enqueue(start_vertex)\n",
    "\n",
    "\n",
    "        # 3. Keep adding neighbours of currently explored vertex to the Queue\n",
    "        # until no more vertices can be explored (queue is empty)\n",
    "        while not vertices_to_explore_queue.is_empty():\n",
    "            # print([v.id for v in vertices_to_explore_queue.items])\n",
    "            current_vertex_explored = vertices_to_explore_queue.dequeue()\n",
    "            # update the color of this current vertex, \"black\" represents \"explored\"\n",
    "            current_vertex_explored.colour = \"black\"\n",
    "\n",
    "            # get all its neighbours\n",
    "            # get_neighbours returns the vertex instances in RANDOM order \n",
    "                # relying on keys() default method in python dict\n",
    "\n",
    "\n",
    "            for current_vertex_neighbour in current_vertex_explored.get_neighbours():\n",
    "                # add it the queue if it is not explored before AND has no \"parent\"\n",
    "                if current_vertex_neighbour.colour == \"white\" and current_vertex_neighbour.parent is  None:\n",
    "                    # update the parent\n",
    "                    current_vertex_neighbour.parent = current_vertex_explored\n",
    "                    # update the distance to this neighbour so far \n",
    "                    # this assumes that the weight for the edge is one \n",
    "                    current_vertex_neighbour.d = current_vertex_explored.d + 1 # can be changed to edge weight between current v to neighbour v\n",
    "                    # print(\"current vertex is \", current_vertex_explored.id, \" and vertex \", current_vertex_neighbour.id , \" is not yet explored.\")\n",
    "                    # print(\"distance from parent: \", current_vertex_neighbour.d, \" parent's current distance: \", current_vertex_explored.d)\n",
    "                    # add it the queue \n",
    "                    vertices_to_explore_queue.enqueue(current_vertex_neighbour)\n",
    "                \n",
    "        ###END SOLUTION\n",
    "    \n",
    "    def get_shortest_path(self, start, dest):\n",
    "        result = []\n",
    "        self.get_path(start, dest, result)\n",
    "        if result == []:\n",
    "            return None  # this clause is only true when start, OR dest vertex does NOT exist in G \n",
    "        else:\n",
    "            return result \n",
    "            # result can be \"No Path\", which means start AND dest vertex exist in G but they are not connected\n",
    "        \n",
    "    \n",
    "\n",
    "    # We need to call search_from once, then after it returns,\n",
    "        # the .colours, .d, and .parent of each VertexSearch instance\n",
    "        # in self.graph will be \"set\"\n",
    "    # If we want to get \"path\", we need to start at the dest Vertex\n",
    "        # then, repeatedly \"backtrack\" the parent\n",
    "    # @args: start, dest is the id of Start, end vertex\n",
    "        # result: a list containing paths -> ids of Vertex from Start to End\n",
    "    def get_path(self, start, dest, result):\n",
    "        ###BEGIN SOLUTION\n",
    "        # check if start, dest exist in graph \n",
    "        start_vertex = self.graph.get_vertex(start)\n",
    "        if start_vertex is None:\n",
    "            return None \n",
    "        \n",
    "        end_vertex = self.graph.get_vertex(dest)\n",
    "        if end_vertex is None:\n",
    "            return None \n",
    "\n",
    "        # if you reach here, both vertices exist\n",
    "        # just because both vertices exist, doesn't mean they're connected\n",
    "        # run BFS to find out, this method runs BFS until there's no Vertex unexplored in G\n",
    "        # it doesn't always stop at dest\n",
    "        # this means that this method can be used to compute path from Start to end_i,\n",
    "        # where end_i is any vertex in G. \n",
    "\n",
    "        # do not call BFS again to save time, when it's been called before \n",
    "        if start_vertex.d != 0:\n",
    "            self.search_from(start)\n",
    "\n",
    "        print(start_vertex.id, end_vertex.id)\n",
    "        # this check is done AFTER BFS is run because we can't assume that\n",
    "        # the question does not run BFS at all if start == dest     \n",
    "        if (start == dest): # if the inputs are the same Vertex \n",
    "            result.append(start)     \n",
    "        elif end_vertex.parent is None:\n",
    "            # start_vertex to end_vertex is NOT connected\n",
    "            result.append(\"No Path\")\n",
    "        else:\n",
    "            # recursive call\n",
    "            # BFS is done, update the end-vertex to be the \"parent of the original end vertex\" \n",
    "            self.get_path(start, end_vertex.parent.id, result)\n",
    "            result.append(dest)\n",
    "        \n",
    "        # example:\n",
    "        # A -> B -> C -> D\n",
    "        # result = []\n",
    "\n",
    "        # 1st call of get_path(A, D, result):\n",
    "        #     do BFS starting from A\n",
    "        #     end_vertex = D, parent is C\n",
    "        #     go to else-clause and recurse\n",
    "        #     result = [... , D]\n",
    "        # 2nd call of get_path(A, C, result):\n",
    "        #     end_vertex = C, parent is B\n",
    "        #     go to else-clause and recurse\n",
    "        #     result = [... , C, ...]\n",
    "        # 3rd call of get_path(A, B, result):\n",
    "        #     end_vertex = B, parent is A\n",
    "        #     go to else-clause and recurse\n",
    "        #     result = [..., B, ...]\n",
    "        # 4th call of get_path(A, A, result):\n",
    "        #     end-vertex = A, parent is None \n",
    "        #     go to if-clause, no recurse\n",
    "        #     result = [A, ...]\n",
    "\n",
    "        ###END SOLUTION\n",
    "        pass"
   ]
  },
  {
   "cell_type": "code",
   "execution_count": 27,
   "metadata": {
    "deletable": false,
    "editable": false,
    "nbgrader": {
     "grade": true,
     "grade_id": "cs61",
     "locked": true,
     "points": "1",
     "solution": false
    }
   },
   "outputs": [
    {
     "name": "stdout",
     "output_type": "stream",
     "text": [
      "hash method is called  B\n",
      "hash method is called  C\n",
      "hash method is called  C\n",
      "hash method is called  D\n",
      "hash method is called  D\n",
      "hash method is called  C\n",
      "hash method is called  F\n",
      "hash method is called  C\n",
      "equal method is called\n",
      "equal method is called\n",
      "A D\n",
      "A B\n",
      "A A\n",
      "E D\n",
      "E C\n",
      "E F\n",
      "E E\n"
     ]
    }
   ],
   "source": [
    "g4 = GraphSearch()\n",
    "g4.add_vertex(\"A\")\n",
    "g4.add_vertex(\"B\")\n",
    "g4.add_vertex(\"C\")\n",
    "g4.add_vertex(\"D\")\n",
    "g4.add_vertex(\"E\")\n",
    "g4.add_vertex(\"F\")\n",
    "g4.add_edge(\"A\", \"B\")\n",
    "g4.add_edge(\"A\", \"C\")\n",
    "g4.add_edge(\"B\", \"C\")\n",
    "g4.add_edge(\"B\", \"D\")\n",
    "g4.add_edge(\"C\", \"D\")\n",
    "g4.add_edge(\"D\", \"C\")\n",
    "g4.add_edge(\"E\", \"F\")\n",
    "g4.add_edge(\"F\", \"C\")\n",
    "gs4 = SearchBFS(g4)\n",
    "\n",
    "gs4.search_from(\"A\")\n",
    "assert gs4.graph.get_vertex(\"A\").d == 0\n",
    "assert gs4.graph.get_vertex(\"A\").colour == \"black\"\n",
    "assert gs4.graph.get_vertex(\"A\").parent == None\n",
    "assert gs4.graph.get_vertex(\"B\").d == 1\n",
    "assert gs4.graph.get_vertex(\"B\").colour == \"black\"\n",
    "assert gs4.graph.get_vertex(\"B\").parent == gs4.graph.get_vertex(\"A\")\n",
    "assert gs4.graph.get_vertex(\"C\").d == 1\n",
    "assert gs4.graph.get_vertex(\"C\").colour == \"black\"\n",
    "assert gs4.graph.get_vertex(\"C\").parent == gs4.graph.get_vertex(\"A\")\n",
    "assert gs4.graph.get_vertex(\"D\").d == 2\n",
    "assert gs4.graph.get_vertex(\"D\").colour == \"black\"\n",
    "gs4.graph.get_vertex(\"D\").parent\n",
    "#assert gs4.graph.get_vertex(\"D\").parent == gs4.graph.get_vertex(\"B\")\n",
    "ans = gs4.get_shortest_path(\"A\", \"D\")\n",
    "assert ans == [\"A\", \"B\", \"D\"]\n",
    "ans = gs4.get_shortest_path(\"E\", \"D\")\n",
    "assert ans == [\"E\", \"F\", \"C\", \"D\"]"
   ]
  },
  {
   "cell_type": "code",
   "execution_count": 25,
   "metadata": {
    "collapsed": true,
    "deletable": false,
    "editable": false,
    "nbgrader": {
     "grade": true,
     "grade_id": "cs62",
     "locked": true,
     "points": "1",
     "solution": false
    }
   },
   "outputs": [],
   "source": [
    "###\n",
    "### AUTOGRADER TEST - DO NOT REMOVE\n",
    "###\n"
   ]
  }
 ],
 "metadata": {
  "colab": {
   "authorship_tag": "ABX9TyPgyB9DRYSfhjD8BmHZ7hFm",
   "collapsed_sections": [],
   "include_colab_link": true,
   "name": "Week05_ProblemSet.ipynb",
   "provenance": []
  },
  "kernelspec": {
   "display_name": "Python 3 [3.7]",
   "language": "python",
   "name": "python3"
  },
  "language_info": {
   "codemirror_mode": {
    "name": "ipython",
    "version": 3
   },
   "file_extension": ".py",
   "mimetype": "text/x-python",
   "name": "python",
   "nbconvert_exporter": "python",
   "pygments_lexer": "ipython3",
   "version": "3.7.5"
  }
 },
 "nbformat": 4,
 "nbformat_minor": 4
}
