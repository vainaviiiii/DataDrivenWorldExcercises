{
 "cells": [
  {
   "cell_type": "markdown",
   "metadata": {
    "colab_type": "text",
    "deletable": false,
    "editable": false,
    "id": "8aIR0Iu8Bp-M",
    "nbgrader": {
     "grade": false,
     "locked": true,
     "solution": false
    }
   },
   "source": [
    "# Week 12 Problem Set\n",
    "\n",
    "## Homework"
   ]
  },
  {
   "cell_type": "markdown",
   "metadata": {
    "colab_type": "text",
    "deletable": false,
    "editable": false,
    "id": "CVpRsTXGBaXa",
    "nbgrader": {
     "grade": false,
     "locked": true,
     "solution": false
    }
   },
   "source": [
    "**HW1.** *Comments:* Write a state machine whose inputs are the characters of a string. The string contains the code for a computer program. The output of the state machine are either:\n",
    "- the input character if it is part of a comment, or\n",
    "- `None`, otherwise.\n",
    "\n",
    "Comment starts with a `#` character and continue to the end of the current line. If you want to create a string that contains a new line character, you can use `\\n`.\n",
    "\n",
    "For example,\n",
    "```\n",
    "inpstr = \"def func(x): # comment\\n    return 1\"\n",
    "m = CommentsSM()\n",
    "print(m.transduce(inpstr))\n",
    "```\n",
    "\n",
    "The expected output is:\n",
    "```\n",
    "[None, None, None, None, None, None, None, None, None, None, None, None, None, \"#\", \" \", \"c\", \"o\", \"m\", \"m\", \"e\", \"n\", \"t\", None, None, None, None, None, None, None, None, None, None, None, None, None]\n",
    "```\n",
    "\n",
    "You should start by drawing a state transition diagram indicating the states and what inputs cause transition to which other states. Use the test case above to determine if your state transition diagram is correct. You should begin writing your program only when you are confident that your diagram is correct. "
   ]
  },
  {
   "cell_type": "code",
   "execution_count": 3,
   "metadata": {
    "collapsed": true
   },
   "outputs": [],
   "source": [
    "# Copy over the implementation of StateMachine from Cohort\n",
    "from abc import ABC, abstractmethod\n",
    "\n",
    "class StateMachine(ABC):\n",
    "    def start(self):\n",
    "        self.state = self.start_state\n",
    "\n",
    "    def step(self, inp):\n",
    "        ns, o = self.get_next_values(self.state, inp)\n",
    "        self.state = ns\n",
    "        return o\n",
    "        \n",
    "    def transduce(self, inp_list):\n",
    "        output = []\n",
    "        self.start()\n",
    "        for inp in inp_list:\n",
    "            if not self.is_done():\n",
    "                o = self.step(inp)\n",
    "                output.append(o)\n",
    "        return output\n",
    "        \n",
    "    @abstractmethod\n",
    "    def get_next_values(self, state, inp):\n",
    "        pass\n",
    "\n",
    "    def done(self, state):\n",
    "        return False\n",
    "\n",
    "    def is_done(self):\n",
    "        return self.done(self.state)\n"
   ]
  },
  {
   "cell_type": "code",
   "execution_count": 4,
   "metadata": {
    "colab": [],
    "colab_type": "code",
    "collapsed": true,
    "id": "k4sWVMNYB_b1"
   },
   "outputs": [],
   "source": [
    "class CommentsSM(StateMachine):\n",
    "    def __init__(self):\n",
    "        self.start_state = \"off\"\n",
    "\n",
    "    def get_next_values(self, state, inp):\n",
    "        if state == \"off\":\n",
    "            if inp == \"#\":\n",
    "                next_state = \"on\"\n",
    "                output = inp\n",
    "            else:\n",
    "                next_state = \"off\"\n",
    "                output = None\n",
    "        elif state == \"on\":\n",
    "            if inp == \"\\n\" :\n",
    "                next_state = \"off\"\n",
    "                output = None\n",
    "            else:\n",
    "                next_state = \"on\"\n",
    "                output = inp\n",
    "        return next_state, output"
   ]
  },
  {
   "cell_type": "code",
   "execution_count": 5,
   "metadata": {
    "colab": [],
    "colab_type": "code",
    "collapsed": true,
    "deletable": false,
    "editable": false,
    "id": "RvcBzb9dEDSQ",
    "nbgrader": {
     "grade": true,
     "grade_id": "hw11",
     "locked": true,
     "points": "1",
     "solution": false
    }
   },
   "outputs": [],
   "source": [
    "inpstr = \"def func(x): # comment\\n    return 1\"\n",
    "m = CommentsSM()\n",
    "out = m.transduce(inpstr)\n",
    "assert out == [None, None, None, None, None, None, None, None, None, None, None, None, None, \"#\", \" \", \"c\", \"o\", \"m\", \"m\", \"e\", \"n\", \"t\", None, None, None, None, None, None, None, None, None, None, None, None, None]"
   ]
  },
  {
   "cell_type": "code",
   "execution_count": 6,
   "metadata": {
    "collapsed": true,
    "deletable": false,
    "editable": false,
    "nbgrader": {
     "grade": true,
     "grade_id": "hw12",
     "locked": true,
     "points": "1",
     "solution": false
    }
   },
   "outputs": [],
   "source": [
    "###\n",
    "### AUTOGRADER TEST - DO NOT REMOVE\n",
    "###\n"
   ]
  },
  {
   "cell_type": "markdown",
   "metadata": {
    "colab_type": "text",
    "deletable": false,
    "editable": false,
    "id": "lYlKhFvVEdx0",
    "nbgrader": {
     "grade": false,
     "locked": true,
     "solution": false
    }
   },
   "source": [
    "**HW2.** *First Word:* Write a state machine whose inputs are the characters of a string and which outputs either:\n",
    "- the input character if it is part of the first word on a line, or\n",
    "- `None`, otherwise\n",
    "\n",
    "For the purposes here, a word is any sequence of consecutive characters that does not contain spaces or end-of-line characters. In this problem, comments have no special status. This means that if the line begins with `# `, then the first word is `#`. \n",
    "\n",
    "For example, \n",
    "```\n",
    "inpstr = \"def func(x): # comment\\n    return 1\"\n",
    "m = FirstWordSM()\n",
    "print(m.transduce( inpstr))\n",
    "```\n",
    "\n",
    "The expected output is:\n",
    "```\n",
    "[\"d\", \"e\", \"f\", None, None, None, None, None, None, None, None, None, None, None, None, None, None, None, None, None, None, None, None, None, None, None, None, None, \"r\", \"e\", \"t\", \"u\", \"r\", \"n\", None, None]\n",
    "```"
   ]
  },
  {
   "cell_type": "code",
   "execution_count": 7,
   "metadata": {
    "colab": [],
    "colab_type": "code",
    "id": "wbcNeKi1FcEy"
   },
   "outputs": [],
   "source": [
    "class FirstWordSM(StateMachine):\n",
    "    def __init__(self):\n",
    "        self.start_state = 0\n",
    "        \n",
    "    def get_next_values(self, state, inp):\n",
    "        if state == 0:\n",
    "            if inp == \"\\n\" or inp == \" \":\n",
    "                output = None\n",
    "                next_state = 0\n",
    "            else:\n",
    "                output = inp\n",
    "                next_state = 1\n",
    "        elif state == 1:\n",
    "            if inp == \" \":\n",
    "                output = None\n",
    "                next_state = 2\n",
    "            elif inp == '\\n':\n",
    "                output = None\n",
    "                next_state = 0\n",
    "            else:\n",
    "                output = inp\n",
    "                next_state = 1\n",
    "        elif state == 2:\n",
    "            if inp == \"\\n\":\n",
    "                output = None\n",
    "                next_state = 0\n",
    "            else:\n",
    "                output = None\n",
    "                next_state = 2\n",
    "        return next_state, output"
   ]
  },
  {
   "cell_type": "code",
   "execution_count": 8,
   "metadata": {
    "colab": [],
    "colab_type": "code",
    "deletable": false,
    "editable": false,
    "id": "UUN3kvJ5GO_g",
    "nbgrader": {
     "grade": true,
     "grade_id": "hw21",
     "locked": true,
     "points": "1",
     "solution": false
    }
   },
   "outputs": [],
   "source": [
    "inpstr = \"def func(x): # comment\\n    return 1\"\n",
    "m = FirstWordSM()\n",
    "out = m.transduce(inpstr)\n",
    "assert out == [\"d\", \"e\", \"f\", None, None, None, None, None, None, None, None, None, None, None, None, None, None, None, None, None, None, None, None, None, None, None, None, \"r\", \"e\", \"t\", \"u\", \"r\", \"n\", None, None]\n"
   ]
  },
  {
   "cell_type": "code",
   "execution_count": 9,
   "metadata": {
    "collapsed": true,
    "deletable": false,
    "editable": false,
    "nbgrader": {
     "grade": true,
     "grade_id": "hw22",
     "locked": true,
     "points": "1",
     "solution": false
    }
   },
   "outputs": [],
   "source": [
    "###\n",
    "### AUTOGRADER TEST - DO NOT REMOVE\n",
    "###\n"
   ]
  },
  {
   "cell_type": "markdown",
   "metadata": {
    "colab_type": "text",
    "deletable": false,
    "editable": false,
    "id": "NnDht41iHHTy",
    "nbgrader": {
     "grade": false,
     "locked": true,
     "solution": false
    }
   },
   "source": [
    "**HW3.** *Robot:* Write a State Machine class that represent a robot. The dimension of the world and the robot initial position should be specified during the class instantiation. The robot can take in the following input:\n",
    "- \"left\"\n",
    "- \"right\"\n",
    "- \"up\"\n",
    "- \"down\"\n",
    "\n",
    "The initial position of the robot is specified during the object instantiation and the input should modify the position of the robot. The robot position must not change if it exceed the boundary. At each step, the robot should output the updated position. "
   ]
  },
  {
   "cell_type": "code",
   "execution_count": 10,
   "metadata": {
    "collapsed": true,
    "deletable": false,
    "editable": false,
    "nbgrader": {
     "grade": false,
     "locked": true,
     "solution": false
    }
   },
   "outputs": [],
   "source": [
    "class Position:\n",
    "  \n",
    "    def __init__(self, x=0, y=0):\n",
    "        self.x = x\n",
    "        self.y = y\n",
    "  \n",
    "    def __str__(self):\n",
    "        return f\"({self.x:}, {self.y:})\"\n",
    "\n",
    "class Dimension:\n",
    "\n",
    "    def __init__(self, width=0, height=0):\n",
    "        self.width = width\n",
    "        self.height = height\n",
    "  \n",
    "    def __str__(self):\n",
    "        return f\"width: {self.width:}, height: {self.height:}\""
   ]
  },
  {
   "cell_type": "code",
   "execution_count": 11,
   "metadata": {
    "colab": [],
    "colab_type": "code",
    "collapsed": true,
    "id": "Cpgta89wHKcM"
   },
   "outputs": [],
   "source": [
    "class RobotSM(StateMachine):\n",
    "\n",
    "    def __init__(self, init_pos, dimension):\n",
    "        self.world_dim = dimension\n",
    "        self.start_state = init_pos\n",
    "        self.start()\n",
    "  \n",
    "    def get_next_values(self, state, inp):\n",
    "        if inp == 'left' and state.x != 0:\n",
    "            next_state = Position(state.x - 1, state.y)\n",
    "        elif inp == 'up' and state.y != self.world_dim.height:\n",
    "            next_state = Position(state.x, state.y + 1)\n",
    "        elif inp == 'down' and state.y != 0:\n",
    "            next_state = Position(state.x, state.y - 1)\n",
    "        elif inp == 'right' and state.y != self.world_dim.width:\n",
    "            next_state = Position(state.x + 1, state.y)\n",
    "        return next_state, None"
   ]
  },
  {
   "cell_type": "code",
   "execution_count": 12,
   "metadata": {
    "colab": [],
    "colab_type": "code",
    "deletable": false,
    "editable": false,
    "id": "dAVM6rSCIxDX",
    "nbgrader": {
     "grade": true,
     "grade_id": "hw31",
     "locked": true,
     "points": "1",
     "solution": false
    }
   },
   "outputs": [
    {
     "ename": "NameError",
     "evalue": "name 'output' is not defined",
     "output_type": "error",
     "traceback": [
      "\u001b[0;31m---------------------------------------------------------------------------\u001b[0m",
      "\u001b[0;31mNameError\u001b[0m                                 Traceback (most recent call last)",
      "\u001b[0;32m<ipython-input-12-92943427ee5a>\u001b[0m in \u001b[0;36m<module>\u001b[0;34m\u001b[0m\n\u001b[1;32m      1\u001b[0m \u001b[0mrobot\u001b[0m \u001b[0;34m=\u001b[0m \u001b[0mRobotSM\u001b[0m\u001b[0;34m(\u001b[0m\u001b[0mPosition\u001b[0m\u001b[0;34m(\u001b[0m\u001b[0;36m0\u001b[0m\u001b[0;34m,\u001b[0m \u001b[0;36m0\u001b[0m\u001b[0;34m)\u001b[0m\u001b[0;34m,\u001b[0m \u001b[0mDimension\u001b[0m\u001b[0;34m(\u001b[0m\u001b[0;36m5\u001b[0m\u001b[0;34m,\u001b[0m \u001b[0;36m5\u001b[0m\u001b[0;34m)\u001b[0m\u001b[0;34m)\u001b[0m\u001b[0;34m\u001b[0m\u001b[0m\n\u001b[1;32m      2\u001b[0m \u001b[0mrobot\u001b[0m\u001b[0;34m.\u001b[0m\u001b[0mstart\u001b[0m\u001b[0;34m(\u001b[0m\u001b[0;34m)\u001b[0m\u001b[0;34m\u001b[0m\u001b[0m\n\u001b[0;32m----> 3\u001b[0;31m \u001b[0mrobot\u001b[0m\u001b[0;34m.\u001b[0m\u001b[0mtransduce\u001b[0m\u001b[0;34m(\u001b[0m\u001b[0;34m[\u001b[0m\u001b[0;34m\"right\"\u001b[0m\u001b[0;34m,\u001b[0m \u001b[0;34m\"right\"\u001b[0m\u001b[0;34m,\u001b[0m \u001b[0;34m\"up\"\u001b[0m\u001b[0;34m,\u001b[0m \u001b[0;34m\"up\"\u001b[0m\u001b[0;34m,\u001b[0m \u001b[0;34m\"up\"\u001b[0m\u001b[0;34m,\u001b[0m \u001b[0;34m\"left\"\u001b[0m\u001b[0;34m,\u001b[0m \u001b[0;34m\"down\"\u001b[0m\u001b[0;34m]\u001b[0m\u001b[0;34m)\u001b[0m\u001b[0;34m\u001b[0m\u001b[0m\n\u001b[0m\u001b[1;32m      4\u001b[0m \u001b[0mpos\u001b[0m \u001b[0;34m=\u001b[0m \u001b[0mrobot\u001b[0m\u001b[0;34m.\u001b[0m\u001b[0mstate\u001b[0m\u001b[0;34m\u001b[0m\u001b[0m\n\u001b[1;32m      5\u001b[0m \u001b[0;32massert\u001b[0m \u001b[0mpos\u001b[0m\u001b[0;34m.\u001b[0m\u001b[0mx\u001b[0m \u001b[0;34m==\u001b[0m \u001b[0;36m1\u001b[0m \u001b[0;32mand\u001b[0m \u001b[0mpos\u001b[0m\u001b[0;34m.\u001b[0m\u001b[0my\u001b[0m \u001b[0;34m==\u001b[0m \u001b[0;36m2\u001b[0m\u001b[0;34m\u001b[0m\u001b[0m\n",
      "\u001b[0;32m<ipython-input-3-5de78d32a267>\u001b[0m in \u001b[0;36mtransduce\u001b[0;34m(self, inp_list)\u001b[0m\n\u001b[1;32m     16\u001b[0m         \u001b[0;32mfor\u001b[0m \u001b[0minp\u001b[0m \u001b[0;32min\u001b[0m \u001b[0minp_list\u001b[0m\u001b[0;34m:\u001b[0m\u001b[0;34m\u001b[0m\u001b[0m\n\u001b[1;32m     17\u001b[0m             \u001b[0;32mif\u001b[0m \u001b[0;32mnot\u001b[0m \u001b[0mself\u001b[0m\u001b[0;34m.\u001b[0m\u001b[0mis_done\u001b[0m\u001b[0;34m(\u001b[0m\u001b[0;34m)\u001b[0m\u001b[0;34m:\u001b[0m\u001b[0;34m\u001b[0m\u001b[0m\n\u001b[0;32m---> 18\u001b[0;31m                 \u001b[0mo\u001b[0m \u001b[0;34m=\u001b[0m \u001b[0mself\u001b[0m\u001b[0;34m.\u001b[0m\u001b[0mstep\u001b[0m\u001b[0;34m(\u001b[0m\u001b[0minp\u001b[0m\u001b[0;34m)\u001b[0m\u001b[0;34m\u001b[0m\u001b[0m\n\u001b[0m\u001b[1;32m     19\u001b[0m                 \u001b[0moutput\u001b[0m\u001b[0;34m.\u001b[0m\u001b[0mappend\u001b[0m\u001b[0;34m(\u001b[0m\u001b[0mo\u001b[0m\u001b[0;34m)\u001b[0m\u001b[0;34m\u001b[0m\u001b[0m\n\u001b[1;32m     20\u001b[0m         \u001b[0;32mreturn\u001b[0m \u001b[0moutput\u001b[0m\u001b[0;34m\u001b[0m\u001b[0m\n",
      "\u001b[0;32m<ipython-input-3-5de78d32a267>\u001b[0m in \u001b[0;36mstep\u001b[0;34m(self, inp)\u001b[0m\n\u001b[1;32m      7\u001b[0m \u001b[0;34m\u001b[0m\u001b[0m\n\u001b[1;32m      8\u001b[0m     \u001b[0;32mdef\u001b[0m \u001b[0mstep\u001b[0m\u001b[0;34m(\u001b[0m\u001b[0mself\u001b[0m\u001b[0;34m,\u001b[0m \u001b[0minp\u001b[0m\u001b[0;34m)\u001b[0m\u001b[0;34m:\u001b[0m\u001b[0;34m\u001b[0m\u001b[0m\n\u001b[0;32m----> 9\u001b[0;31m         \u001b[0mns\u001b[0m\u001b[0;34m,\u001b[0m \u001b[0mo\u001b[0m \u001b[0;34m=\u001b[0m \u001b[0mself\u001b[0m\u001b[0;34m.\u001b[0m\u001b[0mget_next_values\u001b[0m\u001b[0;34m(\u001b[0m\u001b[0mself\u001b[0m\u001b[0;34m.\u001b[0m\u001b[0mstate\u001b[0m\u001b[0;34m,\u001b[0m \u001b[0minp\u001b[0m\u001b[0;34m)\u001b[0m\u001b[0;34m\u001b[0m\u001b[0m\n\u001b[0m\u001b[1;32m     10\u001b[0m         \u001b[0mself\u001b[0m\u001b[0;34m.\u001b[0m\u001b[0mstate\u001b[0m \u001b[0;34m=\u001b[0m \u001b[0mns\u001b[0m\u001b[0;34m\u001b[0m\u001b[0m\n\u001b[1;32m     11\u001b[0m         \u001b[0;32mreturn\u001b[0m \u001b[0mo\u001b[0m\u001b[0;34m\u001b[0m\u001b[0m\n",
      "\u001b[0;32m<ipython-input-11-9f957d04c186>\u001b[0m in \u001b[0;36mget_next_values\u001b[0;34m(self, state, inp)\u001b[0m\n\u001b[1;32m     15\u001b[0m         \u001b[0;32melif\u001b[0m \u001b[0minp\u001b[0m \u001b[0;34m==\u001b[0m \u001b[0;34m'right'\u001b[0m \u001b[0;32mand\u001b[0m \u001b[0mstate\u001b[0m\u001b[0;34m.\u001b[0m\u001b[0my\u001b[0m \u001b[0;34m!=\u001b[0m \u001b[0mself\u001b[0m\u001b[0;34m.\u001b[0m\u001b[0mworld_dim\u001b[0m\u001b[0;34m.\u001b[0m\u001b[0mwidth\u001b[0m\u001b[0;34m:\u001b[0m\u001b[0;34m\u001b[0m\u001b[0m\n\u001b[1;32m     16\u001b[0m             \u001b[0mnext_state\u001b[0m \u001b[0;34m=\u001b[0m \u001b[0mPosition\u001b[0m\u001b[0;34m(\u001b[0m\u001b[0mstate\u001b[0m\u001b[0;34m.\u001b[0m\u001b[0mx\u001b[0m \u001b[0;34m+\u001b[0m \u001b[0;36m1\u001b[0m\u001b[0;34m,\u001b[0m \u001b[0mstate\u001b[0m\u001b[0;34m.\u001b[0m\u001b[0my\u001b[0m\u001b[0;34m)\u001b[0m\u001b[0;34m\u001b[0m\u001b[0m\n\u001b[0;32m---> 17\u001b[0;31m         \u001b[0;32mreturn\u001b[0m \u001b[0mnext_state\u001b[0m\u001b[0;34m,\u001b[0m \u001b[0moutput\u001b[0m\u001b[0;34m\u001b[0m\u001b[0m\n\u001b[0m",
      "\u001b[0;31mNameError\u001b[0m: name 'output' is not defined"
     ]
    }
   ],
   "source": [
    "robot = RobotSM(Position(0, 0), Dimension(5, 5))\n",
    "robot.start()\n",
    "robot.transduce([\"right\", \"right\", \"up\", \"up\", \"up\", \"left\", \"down\"])\n",
    "pos = robot.state\n",
    "assert pos.x == 1 and pos.y == 2"
   ]
  },
  {
   "cell_type": "code",
   "execution_count": null,
   "metadata": {
    "collapsed": true,
    "deletable": false,
    "editable": false,
    "nbgrader": {
     "grade": true,
     "grade_id": "hw32",
     "locked": true,
     "points": "1",
     "solution": false
    }
   },
   "outputs": [],
   "source": [
    "###\n",
    "### AUTOGRADER TEST - DO NOT REMOVE\n",
    "###\n"
   ]
  },
  {
   "cell_type": "markdown",
   "metadata": {
    "colab_type": "text",
    "deletable": false,
    "editable": false,
    "id": "t4iXOJiNaMMR",
    "nbgrader": {
     "grade": false,
     "locked": true,
     "solution": false
    }
   },
   "source": [
    "**HW4.** *Search SM:* Write a function `sm_search` that takes in the following arguments:\n",
    "- `sm_to_search`: is the State Machine instance to search. This argument is of the type `MapSM` as defined in CS4. You should use the `get_next_values()` of this State Machine instance to explore the next state in your search.\n",
    "- `initial_state`: is the start state of the search. If it is not provided, it should be assigned to the `start_state` of sm_search. \n",
    "- `goal_test`: is a function that returns `True` if the argument is the end state of the search. If it is not provided, it should be eassigned to the `done` function of the state machine.\n",
    "\n",
    "This function performs a **breadth-first-search** algorithm to explore the next states. \n",
    "\n",
    "The output is a `list` of `Step` instances from the `init_state` to the end state which is determined by the `goal_test` function.\n",
    "\n",
    "This problem requires you to complete the following:\n",
    "- `Queue` class from Problem Set 4 HW2.\n",
    "- `MapSM` class in CS4.\n",
    "- `SearchNode` and `Step` classes in CS5."
   ]
  },
  {
   "cell_type": "code",
   "execution_count": null,
   "metadata": {
    "colab": [],
    "colab_type": "code",
    "collapsed": true,
    "id": "jVauNWSLaM9y"
   },
   "outputs": [],
   "source": [
    "# Copy over the implementations of Queue from PS4 HW2\n",
    "class Queue:\n",
    "    def __init__(self):\n",
    "        self.left_stack = Stack()\n",
    "        self.right_stack = Stack()\n",
    "        \n",
    "    def enqueue(self,item):\n",
    "        self.right_stack.push(item)\n",
    "        \n",
    "        \n",
    "    def dequeue(self):\n",
    "        if self.left_stack.is_empty:\n",
    "            while not self.right_stack.is_empty:\n",
    "                item = self.right_stack.pop()\n",
    "                self.left_stack.push(item)\n",
    "                \n",
    "        return self.left_stack.pop()\n",
    "        \n",
    "        \n",
    "    def peek(self):\n",
    "        if self.left_stack.is_empty:\n",
    "            if not self.right_stack.is_empty:\n",
    "                return self.right_stack.items[0]\n",
    "        else:\n",
    "            return self.left_stack.peek()\n",
    "        \n",
    "    @property\n",
    "    def is_empty(self):\n",
    "        return self.left_stack.is_empty and self.right_stack.is_empty\n",
    "    \n",
    "    @property\n",
    "    def size(self):\n",
    "        return self.left_stack.size + self.right_stack.size"
   ]
  },
  {
   "cell_type": "code",
   "execution_count": null,
   "metadata": {
    "collapsed": true
   },
   "outputs": [],
   "source": [
    "# Copy over the implementation of StateSpaceSearch from Cohort\n",
    "from abc import abstractmethod\n",
    "\n",
    "class StateSpaceSearch(StateMachine):\n",
    "    @property\n",
    "    @abstractmethod\n",
    "    def statemap(self):\n",
    "        pass\n",
    "\n",
    "    @property\n",
    "    @abstractmethod\n",
    "    def legal_inputs(self):\n",
    "        pass\n"
   ]
  },
  {
   "cell_type": "code",
   "execution_count": null,
   "metadata": {
    "collapsed": true
   },
   "outputs": [],
   "source": [
    "# Copy over the implementation of MapSM from Cohort\n",
    "class MapSM(StateSpaceSearch):\n",
    "    \n",
    "    def __init__(self, start):\n",
    "        self.start_state = start\n",
    "        \n",
    "    @property\n",
    "    def statemap(self):\n",
    "        statemap = {\"S\": [\"A\", \"B\"],\n",
    "                    \"A\": [\"S\", \"C\", \"D\"],\n",
    "                    \"B\": [\"S\", \"D\", \"E\"],\n",
    "                    \"C\": [\"A\", \"F\"],\n",
    "                    \"D\": [\"A\", \"B\", \"F\", \"H\"],\n",
    "                    \"E\": [\"B\", \"H\"],\n",
    "                    \"F\": [\"C\", \"D\", \"G\"],\n",
    "                    \"H\": [\"D\", \"E\", \"G\"],\n",
    "                    \"G\": [\"F\", \"H\"]}\n",
    "        return statemap\n",
    "\n",
    "    @property\n",
    "    def legal_inputs(self):\n",
    "        max_neighbour = -1\n",
    "        for state, neighbours in self.statemap.items():\n",
    "            if max_neighbour < len(neighbours):\n",
    "                max_neighbour = len(neighbours)\n",
    "        \n",
    "        # max_neighbour is just an integer\n",
    "        # we need to return a set \n",
    "        return set(range(0, max_neighbour))\n",
    "\n",
    "    # eg if state == S, and inp == 1, \n",
    "    # return \"B\", \"B\"\n",
    "    def get_next_values(self, state, inp):\n",
    "        # use a method that will not result in an error if the key isn't found\n",
    "        neighbours = self.statemap.get(state, None)\n",
    "        # why not: neighbours = self.statemap[state]?\n",
    "        # because if state is not a valid key, the above will return error\n",
    "\n",
    "        # default values\n",
    "        next_state = state\n",
    "        output = state \n",
    "\n",
    "        # if neighbours is None:\n",
    "        #     return next_state, output\n",
    "        \n",
    "        if neighbours != None and inp < len(neighbours):\n",
    "            next_state = neighbours[inp]\n",
    "            output = next_state\n",
    "        \n",
    "        return next_state, output\n"
   ]
  },
  {
   "cell_type": "code",
   "execution_count": null,
   "metadata": {
    "collapsed": true
   },
   "outputs": [],
   "source": [
    "# Copy over the implementations of Step and SearchNode from Cohort\n",
    "class Step:\n",
    "    def __init__(self, action, state):\n",
    "        self.action = action\n",
    "        self.state = state\n",
    "    \n",
    "    def __eq__(self, other):\n",
    "        return self.action == other.action and self.state == other.state\n",
    "  \n",
    "    def __str__(self):\n",
    "        return f\"action: {self.action:}, state: {self.state:}\"\n",
    "\n",
    "class SearchNode:\n",
    "    def __init__(self, action, state, parent):\n",
    "        self.action = action\n",
    "        self.state = state\n",
    "        self.parent = parent\n",
    "  \n",
    "    # @return\n",
    "    # list of Step instances\n",
    "    # Example: S -> A -> C\n",
    "    # C.path() SHOULD return [Step(None, S), Step(ActionA, A), Step(ActionC, C)]\n",
    "    # C.path() go to else clause:\n",
    "        # return A.path() + [Step(ActionC, C)]\n",
    "    # Requires us to compute A.path() before C.path() can return\n",
    "    # A.path() go to else clause:\n",
    "        # return S.path() + [Step(ActionA, A)]\n",
    "    # Requires us to compute S.path() before A.path() can return\n",
    "    # S.path() go to if clause:\n",
    "        # return [Step(None, S)] to A.path()\n",
    "    # A.path() now executes:\n",
    "        # return [Step(None, S)] + [Step(ActionA, A)] to C.path()\n",
    "    # C.path() now executes:\n",
    "        # return [Step(None, S)] + [Step(ActionA, A)] + [Step(ActionC, C)] \n",
    "\n",
    "    def path(self):\n",
    "        # base state\n",
    "        if self.parent is None:\n",
    "            return [Step(self.action, self.state)]\n",
    "        else:\n",
    "            return self.parent.path() + [Step(self.action, self.state)]\n",
    "        \n",
    "    # @args\n",
    "    # state --> string, or anything that represents a state\n",
    "    # @return\n",
    "    # boolean\n",
    "    def in_path(self, state):\n",
    "        if self.state == state:\n",
    "            return True\n",
    "        elif self.parent == None:\n",
    "            return False \n",
    "        else:\n",
    "            # recursion\n",
    "            # just like a linked list,\n",
    "            # check if the asked state exists\n",
    "            # in your ancestor line\n",
    "            return self.parent.in_path(state)\n",
    "  \n",
    "    def __eq__(self, other):\n",
    "        if self is None and other is None:\n",
    "            return True\n",
    "        elif self is None:\n",
    "            return False\n",
    "        elif other is None:\n",
    "            return False\n",
    "        else:\n",
    "            return self.state == other.state and self.parent == other.parent and \\\n",
    "                   self.action == other.action\n"
   ]
  },
  {
   "cell_type": "code",
   "execution_count": null,
   "metadata": {
    "colab": [],
    "colab_type": "code",
    "collapsed": true,
    "id": "5gqajGoo5KdP"
   },
   "outputs": [],
   "source": [
    "def sm_search(sm_to_search, initial_state=None, goal_test=None):\n",
    "    # check if initial_state is provided\n",
    "    # if it is, use it\n",
    "    # otherwise, get the start state of sm_to_search\n",
    "    if initial_state == None:\n",
    "        # replace None to take the start state of sm_to_search\n",
    "        init_state = None\n",
    "        ###\n",
    "        ### YOUR CODE HERE\n",
    "        ###\n",
    "    else:\n",
    "        init_state = initial_state\n",
    "  \n",
    "    # check if goal_test is provided\n",
    "    # if it is, use it\n",
    "    # otherwise, use the done method as the goal function\n",
    "    # taken from sm_to_search\n",
    "    if goal_test == None:\n",
    "        goal_func = sm_to_search.done\n",
    "    else:\n",
    "        goal_func = goal_test\n",
    "  \n",
    "    # create a Queue instance to store the node to explore\n",
    "    # replace the None below\n",
    "    agenda = None\n",
    "    ###\n",
    "    ### YOUR CODE HERE\n",
    "    ###\n",
    "  \n",
    "    # if the initial state is the goal state, \n",
    "    # then we are done and exit\n",
    "    if goal_func(init_state):\n",
    "        return [Step(None, init_state)]\n",
    "  \n",
    "    # otherwise, add the current node into the agenda \n",
    "    agenda.enqueue(SearchNode(None, init_state, None))\n",
    "    \n",
    "    # explore as long as the Queue is not empty\n",
    "    while not agenda.is_empty:\n",
    "        \n",
    "        # replace None to take out the parent from the Queue\n",
    "        parent = None\n",
    "        ###\n",
    "        ### YOUR CODE HERE\n",
    "        ###\n",
    "        \n",
    "        # create a list to keep track which child state have been explored\n",
    "        new_child_state = []\n",
    "        \n",
    "        # get all the legal input values\n",
    "        actions = sm_to_search.legal_inputs\n",
    "        \n",
    "        #iterate over all legal inputs\n",
    "        for a in actions:\n",
    "            # get the next possible state using the current action\n",
    "            # call get_next_values to get the next state\n",
    "            # replace the None below\n",
    "            new_s = None\n",
    "            ###\n",
    "            ### YOUR CODE HERE\n",
    "            ###\n",
    "            \n",
    "            # create a new search node from the new_s\n",
    "            # replace the None below\n",
    "            new_n = None\n",
    "            ###\n",
    "            ### YOUR CODE HERE\n",
    "            ###\n",
    "            \n",
    "            # if the new state is the goal state, then we exit and return the path\n",
    "            if goal_func(new_s):\n",
    "                return new_n.path()\n",
    "            \n",
    "            # if the new state is already in the list of new child state, ignore it\n",
    "            elif new_s in new_child_state:\n",
    "                pass\n",
    "            \n",
    "            # if the new state is in the path of the current node, ignore it\n",
    "            elif parent.in_path(new_s):\n",
    "                pass\n",
    "            \n",
    "            # otherwise, add the new state into the list\n",
    "            # and the new node into the Queue\n",
    "            else:\n",
    "                # step 1. add the new state into the new_child_state\n",
    "                ###\n",
    "                ### YOUR CODE HERE\n",
    "                ###\n",
    "                \n",
    "                # step 2. add the new node into the Queue\n",
    "                ###\n",
    "                ### YOUR CODE HERE\n",
    "                ###\n",
    "                pass\n",
    "    return None"
   ]
  },
  {
   "cell_type": "code",
   "execution_count": 5,
   "metadata": {
    "colab": {
     "base_uri": "https://localhost:8080/",
     "height": 85
    },
    "colab_type": "code",
    "deletable": false,
    "editable": false,
    "id": "xt-3GH5RL6Kj",
    "nbgrader": {
     "grade": true,
     "grade_id": "hw41",
     "locked": true,
     "points": "1",
     "solution": false
    },
    "outputId": "4ef5cf2c-c7a2-4581-889a-b5eeadc64429"
   },
   "outputs": [
    {
     "ename": "NameError",
     "evalue": "name 'MapSM' is not defined",
     "output_type": "error",
     "traceback": [
      "\u001b[0;31m---------------------------------------------------------------------------\u001b[0m",
      "\u001b[0;31mNameError\u001b[0m                                 Traceback (most recent call last)",
      "\u001b[0;32m<ipython-input-5-61237f5b09a0>\u001b[0m in \u001b[0;36m<module>\u001b[0;34m\u001b[0m\n\u001b[0;32m----> 1\u001b[0;31m \u001b[0mmapSM\u001b[0m \u001b[0;34m=\u001b[0m \u001b[0mMapSM\u001b[0m\u001b[0;34m(\u001b[0m\u001b[0;34m\"S\"\u001b[0m\u001b[0;34m)\u001b[0m\u001b[0;34m\u001b[0m\u001b[0m\n\u001b[0m\u001b[1;32m      2\u001b[0m \u001b[0mans\u001b[0m \u001b[0;34m=\u001b[0m \u001b[0msm_search\u001b[0m\u001b[0;34m(\u001b[0m\u001b[0mmapSM\u001b[0m \u001b[0;34m,\u001b[0m \u001b[0;34m\"S\"\u001b[0m \u001b[0;34m,\u001b[0m \u001b[0;32mlambda\u001b[0m \u001b[0ms\u001b[0m\u001b[0;34m:\u001b[0m \u001b[0ms\u001b[0m\u001b[0;34m==\u001b[0m\u001b[0;34m\"H\"\u001b[0m \u001b[0;34m)\u001b[0m\u001b[0;34m\u001b[0m\u001b[0m\n\u001b[1;32m      3\u001b[0m \u001b[0msteps\u001b[0m \u001b[0;34m=\u001b[0m \u001b[0;34m[\u001b[0m\u001b[0;34m(\u001b[0m\u001b[0mstep\u001b[0m\u001b[0;34m.\u001b[0m\u001b[0maction\u001b[0m\u001b[0;34m,\u001b[0m \u001b[0mstep\u001b[0m\u001b[0;34m.\u001b[0m\u001b[0mstate\u001b[0m\u001b[0;34m)\u001b[0m \u001b[0;32mfor\u001b[0m \u001b[0mstep\u001b[0m \u001b[0;32min\u001b[0m \u001b[0mans\u001b[0m\u001b[0;34m]\u001b[0m\u001b[0;34m\u001b[0m\u001b[0m\n\u001b[1;32m      4\u001b[0m \u001b[0;32massert\u001b[0m \u001b[0msteps\u001b[0m \u001b[0;34m==\u001b[0m \u001b[0;34m[\u001b[0m\u001b[0;34m(\u001b[0m\u001b[0;32mNone\u001b[0m\u001b[0;34m,\u001b[0m \u001b[0;34m\"S\"\u001b[0m\u001b[0;34m)\u001b[0m\u001b[0;34m,\u001b[0m \u001b[0;34m(\u001b[0m\u001b[0;36m0\u001b[0m\u001b[0;34m,\u001b[0m \u001b[0;34m\"A\"\u001b[0m\u001b[0;34m)\u001b[0m\u001b[0;34m,\u001b[0m \u001b[0;34m(\u001b[0m\u001b[0;36m2\u001b[0m\u001b[0;34m,\u001b[0m \u001b[0;34m\"D\"\u001b[0m\u001b[0;34m)\u001b[0m\u001b[0;34m,\u001b[0m \u001b[0;34m(\u001b[0m\u001b[0;36m3\u001b[0m\u001b[0;34m,\u001b[0m \u001b[0;34m\"H\"\u001b[0m\u001b[0;34m)\u001b[0m\u001b[0;34m]\u001b[0m\u001b[0;34m\u001b[0m\u001b[0m\n\u001b[1;32m      5\u001b[0m \u001b[0;32mfor\u001b[0m \u001b[0mstep\u001b[0m \u001b[0;32min\u001b[0m \u001b[0mans\u001b[0m\u001b[0;34m:\u001b[0m\u001b[0;34m\u001b[0m\u001b[0m\n",
      "\u001b[0;31mNameError\u001b[0m: name 'MapSM' is not defined"
     ]
    }
   ],
   "source": [
    "mapSM = MapSM(\"S\")\n",
    "ans = sm_search(mapSM , \"S\" , lambda s: s==\"H\" )\n",
    "steps = [(step.action, step.state) for step in ans]\n",
    "assert steps == [(None, \"S\"), (0, \"A\"), (2, \"D\"), (3, \"H\")]\n",
    "for step in ans:\n",
    "    print(step)"
   ]
  },
  {
   "cell_type": "code",
   "execution_count": 18,
   "metadata": {
    "collapsed": true,
    "deletable": false,
    "editable": false,
    "nbgrader": {
     "grade": true,
     "grade_id": "hw42",
     "locked": true,
     "points": "1",
     "solution": false
    }
   },
   "outputs": [],
   "source": [
    "###\n",
    "### AUTOGRADER TEST - DO NOT REMOVE\n",
    "###\n"
   ]
  }
 ],
 "metadata": {
  "kernelspec": {
   "display_name": "Python 3 [3.7]",
   "language": "python",
   "name": "python3"
  },
  "language_info": {
   "codemirror_mode": {
    "name": "ipython",
    "version": 3
   },
   "file_extension": ".py",
   "mimetype": "text/x-python",
   "name": "python",
   "nbconvert_exporter": "python",
   "pygments_lexer": "ipython3",
   "version": "3.7.5"
  }
 },
 "nbformat": 4,
 "nbformat_minor": 4
}
