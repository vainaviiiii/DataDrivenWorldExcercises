{
 "cells": [
  {
   "cell_type": "markdown",
   "metadata": {
    "colab_type": "text",
    "deletable": false,
    "editable": false,
    "id": "acuSsZsDvgyx",
    "nbgrader": {
     "grade": false,
     "locked": true,
     "solution": false
    }
   },
   "source": [
    "# Week 3 Problem Set\n",
    "\n",
    "## Homeworks\n",
    "\n",
    "**HW1.** *Fibonaci:* Write a function to find the Fibonacci number given an index. These are the example of a the first few numbers in Fibonacci series.\n",
    "\n",
    "| Indices    | 0 | 1 | 2 | 3 | 4 | 5 | 6 | 7  | 8  | 9  |\n",
    "|------------|---|---|---|---|---|---|---|----|----|----|\n",
    "| The series | 0 | 1 | 1 | 2 | 3 | 5 | 8 | 13 | 21 | 34 |\n",
    "\n",
    "We can write that the Fibonacci number at index *i* is given by:\n",
    "\n",
    "$fibo(i) = fibo(i-1) + fibo(i-2)$\n",
    "\n",
    "User recursion for your implementation."
   ]
  },
  {
   "cell_type": "code",
   "execution_count": null,
   "metadata": {
    "colab": [],
    "colab_type": "code",
    "collapsed": true,
    "id": "jxIGTY0evkDL"
   },
   "outputs": [],
   "source": [
    "def fibonacci(index):\n",
    "    if index-2 >=0:\n",
    "        f_index = fibonacci(index-1) + fibonacci(index-2)\n",
    "        return f_index\n",
    "    elif index == 1:\n",
    "        return 1\n",
    "    else:\n",
    "        return 0\n",
    "\n"
   ]
  },
  {
   "cell_type": "code",
   "execution_count": null,
   "metadata": {
    "collapsed": true,
    "deletable": false,
    "editable": false,
    "nbgrader": {
     "grade": true,
     "grade_id": "hw11",
     "locked": true,
     "points": "1",
     "solution": false
    }
   },
   "outputs": [],
   "source": [
    "assert fibonacci(0) == 0\n",
    "assert fibonacci(1) == 1\n",
    "assert fibonacci(3) == 2\n",
    "assert fibonacci(7) == 13\n",
    "assert fibonacci(9) == 34"
   ]
  },
  {
   "cell_type": "code",
   "execution_count": null,
   "metadata": {
    "collapsed": true,
    "deletable": false,
    "editable": false,
    "nbgrader": {
     "grade": true,
     "grade_id": "hw12",
     "locked": true,
     "points": "1",
     "solution": false
    }
   },
   "outputs": [],
   "source": [
    "###\n",
    "### AUTOGRADER TEST - DO NOT REMOVE\n",
    "###\n"
   ]
  },
  {
   "cell_type": "markdown",
   "metadata": {
    "colab_type": "text",
    "deletable": false,
    "editable": false,
    "id": "20H_lJq1v52I",
    "nbgrader": {
     "grade": false,
     "locked": true,
     "solution": false
    }
   },
   "source": [
    "**HW2.** *Max-Heapify:* Recall the algorithm for max-heapify in restoring the *max-heap property* of a binary heap tree. In the previous implementation, we used iteration. Implement the same algorithm using recursion. "
   ]
  },
  {
   "cell_type": "code",
   "execution_count": 2,
   "metadata": {
    "colab": {
     "base_uri": "https://localhost:8080/",
     "height": 51
    },
    "colab_type": "code",
    "executionInfo": {
     "elapsed": 830,
     "status": "ok",
     "timestamp": 1573111720760,
     "user": {
      "displayName": "Oka Kurniawan",
      "photoUrl": "https://lh3.googleusercontent.com/a-/AAuE7mAnRP7A15yGfrraUO-0BiNVbNmYjI2f9jaZikjr=s64",
      "userId": "05233922875329103764"
     },
     "user_tz": -480
    },
    "id": "6z3KGhnjv7NY",
    "outputId": "66fcd4d5-777c-441e-9042-b3cc3f536d6e"
   },
   "outputs": [
    {
     "name": "stdout",
     "output_type": "stream",
     "text": [
      "[16, 14, 10, 8, 7, 9, 3, 2, 4, 1]\n",
      "[4, 16, 10, 14, 7, 9, 3, 2, 8, 1]\n"
     ]
    }
   ],
   "source": [
    "def left_of(index):\n",
    "    leftchild = int((index*2)+1)\n",
    "    return leftchild\n",
    "\n",
    "def right_of(index):\n",
    "    rightchild = int((index*2)+2)\n",
    "    return rightchild\n",
    "\n",
    "def max_child(array, index, heap_size):\n",
    "    if right_of(index) >= heap_size:\n",
    "        return left_of(index)\n",
    "    else:\n",
    "        if array[right_of(index)] >= array[left_of(index)]:\n",
    "            return right_of(index)\n",
    "        else:\n",
    "            return left_of(index)\n",
    "        \n",
    "def max_heapify_recursive(array, current_i , heap_size):\n",
    "    if left_of(current_i) < heap_size:#size=10#\n",
    "        max_child_i = max_child(array, current_i, heap_size)\n",
    "        if array[max_child_i] > array[current_i]:\n",
    "            array[max_child_i], array[current_i] = array[current_i], array[max_child_i]\n",
    "        current_i = max_child_i\n",
    "        max_heapify_recursive(array, current_i , heap_size)\n",
    "        \n",
    "\n",
    "def max_heapify(array, index, heap_size):\n",
    "#     current_i = ((heap_size-2)//2)\n",
    "    current_i = index #1\n",
    "    max_heapify_recursive(array, current_i , heap_size)\n",
    "        \n",
    "\n",
    "    \n",
    "        \n",
    "result = [16, 4, 10, 14, 7, 9, 3, 2, 8, 1]\n",
    "max_heapify(result, 1, len(result))\n",
    "print(result)\n",
    "assert result == [16, 14, 10, 8, 7, 9, 3, 2, 4, 1]\n",
    "result = [4, 1, 10, 14, 16, 9, 3, 2, 8, 7]\n",
    "max_heapify(result, 1, len(result))\n",
    "print(result)\n",
    "assert result == [4, 16, 10, 14, 7, 9, 3, 2, 8, 1]     "
   ]
  },
  {
   "cell_type": "code",
   "execution_count": 3,
   "metadata": {
    "deletable": false,
    "editable": false,
    "nbgrader": {
     "grade": true,
     "grade_id": "hw21",
     "locked": true,
     "points": "1",
     "solution": false
    }
   },
   "outputs": [
    {
     "name": "stdout",
     "output_type": "stream",
     "text": [
      "[4, 16, 10, 14, 7, 9, 3, 2, 8, 1]\n"
     ]
    },
    {
     "ename": "AssertionError",
     "evalue": "",
     "output_type": "error",
     "traceback": [
      "\u001b[0;31m---------------------------------------------------------------------------\u001b[0m",
      "\u001b[0;31mAssertionError\u001b[0m                            Traceback (most recent call last)",
      "\u001b[0;32m<ipython-input-3-bdc31353cc02>\u001b[0m in \u001b[0;36m<module>\u001b[0;34m\u001b[0m\n\u001b[1;32m      2\u001b[0m \u001b[0mmax_heapify\u001b[0m\u001b[0;34m(\u001b[0m\u001b[0mresult\u001b[0m\u001b[0;34m,\u001b[0m \u001b[0;36m1\u001b[0m\u001b[0;34m,\u001b[0m \u001b[0mlen\u001b[0m\u001b[0;34m(\u001b[0m\u001b[0mresult\u001b[0m\u001b[0;34m)\u001b[0m\u001b[0;34m)\u001b[0m\u001b[0;34m\u001b[0m\u001b[0m\n\u001b[1;32m      3\u001b[0m \u001b[0mprint\u001b[0m\u001b[0;34m(\u001b[0m\u001b[0mresult\u001b[0m\u001b[0;34m)\u001b[0m\u001b[0;34m\u001b[0m\u001b[0m\n\u001b[0;32m----> 4\u001b[0;31m \u001b[0;32massert\u001b[0m \u001b[0mresult\u001b[0m \u001b[0;34m==\u001b[0m \u001b[0;34m[\u001b[0m\u001b[0;36m16\u001b[0m\u001b[0;34m,\u001b[0m \u001b[0;36m14\u001b[0m\u001b[0;34m,\u001b[0m \u001b[0;36m10\u001b[0m\u001b[0;34m,\u001b[0m \u001b[0;36m8\u001b[0m\u001b[0;34m,\u001b[0m \u001b[0;36m7\u001b[0m\u001b[0;34m,\u001b[0m \u001b[0;36m9\u001b[0m\u001b[0;34m,\u001b[0m \u001b[0;36m3\u001b[0m\u001b[0;34m,\u001b[0m \u001b[0;36m2\u001b[0m\u001b[0;34m,\u001b[0m \u001b[0;36m4\u001b[0m\u001b[0;34m,\u001b[0m \u001b[0;36m1\u001b[0m\u001b[0;34m]\u001b[0m\u001b[0;34m\u001b[0m\u001b[0m\n\u001b[0m\u001b[1;32m      5\u001b[0m \u001b[0mresult\u001b[0m \u001b[0;34m=\u001b[0m \u001b[0;34m[\u001b[0m\u001b[0;36m4\u001b[0m\u001b[0;34m,\u001b[0m \u001b[0;36m1\u001b[0m\u001b[0;34m,\u001b[0m \u001b[0;36m10\u001b[0m\u001b[0;34m,\u001b[0m \u001b[0;36m14\u001b[0m\u001b[0;34m,\u001b[0m \u001b[0;36m16\u001b[0m\u001b[0;34m,\u001b[0m \u001b[0;36m9\u001b[0m\u001b[0;34m,\u001b[0m \u001b[0;36m3\u001b[0m\u001b[0;34m,\u001b[0m \u001b[0;36m2\u001b[0m\u001b[0;34m,\u001b[0m \u001b[0;36m8\u001b[0m\u001b[0;34m,\u001b[0m \u001b[0;36m7\u001b[0m\u001b[0;34m]\u001b[0m\u001b[0;34m\u001b[0m\u001b[0m\n\u001b[1;32m      6\u001b[0m \u001b[0mmax_heapify\u001b[0m\u001b[0;34m(\u001b[0m\u001b[0mresult\u001b[0m\u001b[0;34m,\u001b[0m \u001b[0;36m1\u001b[0m\u001b[0;34m,\u001b[0m \u001b[0mlen\u001b[0m\u001b[0;34m(\u001b[0m\u001b[0mresult\u001b[0m\u001b[0;34m)\u001b[0m\u001b[0;34m)\u001b[0m\u001b[0;34m\u001b[0m\u001b[0m\n",
      "\u001b[0;31mAssertionError\u001b[0m: "
     ]
    }
   ],
   "source": [
    "# result = [16, 4, 10, 14, 7, 9, 3, 2, 8, 1]\n",
    "max_heapify(result, 1, len(result))\n",
    "print(result)\n",
    "assert result == [16, 14, 10, 8, 7, 9, 3, 2, 4, 1]\n",
    "result = [4, 1, 10, 14, 16, 9, 3, 2, 8, 7]\n",
    "max_heapify(result, 1, len(result))\n",
    "print(result)\n",
    "assert result == [4, 16, 10, 14, 7, 9, 3, 2, 8, 1]"
   ]
  },
  {
   "cell_type": "code",
   "execution_count": null,
   "metadata": {
    "collapsed": true,
    "deletable": false,
    "editable": false,
    "nbgrader": {
     "grade": true,
     "grade_id": "hw22",
     "locked": true,
     "points": "1",
     "solution": false
    }
   },
   "outputs": [],
   "source": [
    "###\n",
    "### AUTOGRADER TEST - DO NOT REMOVE\n",
    "###\n"
   ]
  },
  {
   "cell_type": "markdown",
   "metadata": {
    "colab_type": "text",
    "deletable": false,
    "editable": false,
    "id": "p40-50nDxLSv",
    "nbgrader": {
     "grade": false,
     "locked": true,
     "solution": false
    }
   },
   "source": [
    "**HW3.** *String Permutation:* Write two functions to return an array of all the permutations of a string. For example, if the input is `abc`, the output should be\n",
    "\n",
    "```\n",
    "output = [\"abc\", \"acb\", \"bac\", \"bca\", \"cab\", \"cba\"]\n",
    "```\n",
    "\n",
    "The first function only has one argument which is the input string, i.e. `permutate(s)`. The second function is the recursive function with two arguments String 1 (`str1`) and and String 2 (`str2`). The first function calls the second method `permutate(\"\", s)` at the beginning. The second function should use a loop to move a character from `str2` to `str1` and recursively invokes it with a new `str1` and `str2`. "
   ]
  },
  {
   "cell_type": "code",
   "execution_count": 9,
   "metadata": {
    "colab": [],
    "colab_type": "code",
    "id": "xqgZRgR3xPrK"
   },
   "outputs": [
    {
     "data": {
      "text/plain": [
       "['abc', 'acb', 'bac', 'bca', 'cab', 'cba']"
      ]
     },
     "execution_count": 9,
     "metadata": {},
     "output_type": "execute_result"
    }
   ],
   "source": [
    "\n",
    "def permutate(s):\n",
    "    lst=[]\n",
    "    if len(s) == 0:\n",
    "        lst.append(s)\n",
    "    else:\n",
    "        recursive(\"\",s,lst)\n",
    "        return lst\n",
    "        \n",
    "def recursive(str1,str2,lst):\n",
    "    if str2 == \"\":\n",
    "#         print(str1,\"it works\")\n",
    "        lst.append(str(str1))\n",
    "        return lst\n",
    "    for i in range(0, len(str2)):\n",
    "#         print(f\"str1..{str1} str2..{str2}\")\n",
    "        recursive(str1+str2[i],str2[:i]+str2[1+i:],lst)\n",
    "\n",
    "permutate(\"abc\")"
   ]
  },
  {
   "cell_type": "code",
   "execution_count": 10,
   "metadata": {
    "collapsed": true,
    "deletable": false,
    "editable": false,
    "nbgrader": {
     "grade": true,
     "grade_id": "hw31",
     "locked": true,
     "points": "1",
     "solution": false
    }
   },
   "outputs": [],
   "source": [
    "assert set(permutate(\"abc\"))==set([\"abc\", \"acb\", \"bac\", \"bca\", \"cab\", \"cba\"])\n",
    "assert set(permutate(\"abcd\"))==set([\"abcd\", \"abdc\", \"acbd\", \"acdb\", \"adbc\", \"adcb\", \"bacd\", \"badc\", \"bcad\", \"bcda\", \"bdac\", \"bdca\", \"cabd\", \"cadb\", \"cbad\", \"cbda\", \"cdab\", \"cdba\", \"dabc\", \"dacb\", \"dbac\", \"dbca\", \"dcab\", \"dcba\"])"
   ]
  },
  {
   "cell_type": "code",
   "execution_count": 6,
   "metadata": {
    "collapsed": true,
    "deletable": false,
    "editable": false,
    "nbgrader": {
     "grade": true,
     "grade_id": "hw32",
     "locked": true,
     "points": "1",
     "solution": false
    }
   },
   "outputs": [],
   "source": [
    "###\n",
    "### AUTOGRADER TEST - DO NOT REMOVE\n",
    "###\n"
   ]
  },
  {
   "cell_type": "markdown",
   "metadata": {
    "colab_type": "text",
    "deletable": false,
    "editable": false,
    "id": "beTE9RrB0Zo4",
    "nbgrader": {
     "grade": false,
     "locked": true,
     "solution": false
    }
   },
   "source": [
    "**HW4.** *GCD:* Implement the recursive implementation of Euclid's algorithm for Greatest Common Divisor (GCD).\n",
    "\n",
    "Hint: [Wikipedia: Greatest Common Divisor](https://en.wikipedia.org/wiki/Greatest_common_divisor#Euclid's_algorithm)"
   ]
  },
  {
   "cell_type": "code",
   "execution_count": 3,
   "metadata": {
    "colab": [],
    "colab_type": "code",
    "id": "rdcLfu6i0amV",
    "nbgrader": {
     "grade": false,
     "grade_id": "hw41",
     "locked": false,
     "points": "1",
     "solution": false
    }
   },
   "outputs": [
    {
     "name": "stdout",
     "output_type": "stream",
     "text": [
      "4\n",
      "2\n"
     ]
    }
   ],
   "source": [
    "def gcd(a, b):\n",
    "    if a == 0 or b == 0:\n",
    "        return a+b\n",
    "    elif a > b:\n",
    "        return gcd(b,a%b)\n",
    "    elif  a < b:\n",
    "        return gcd(a,b%a)\n",
    "\n",
    "# print(gcd(0,0))\n",
    "#print(gcd(2,0))\n",
    "# print(gcd(0,2))\n",
    "# print(gcd(2,3))\n",
    "print(gcd(4, 28))\n",
    "gcd(1024, 526)\n",
    "print(gcd(1024, 526))"
   ]
  },
  {
   "cell_type": "code",
   "execution_count": 4,
   "metadata": {
    "deletable": false,
    "editable": false,
    "nbgrader": {
     "grade": true,
     "grade_id": "hw41",
     "locked": true,
     "points": "1",
     "solution": false
    }
   },
   "outputs": [],
   "source": [
    "assert gcd(0,0) == 0\n",
    "assert gcd(2,0) == 2\n",
    "assert gcd(0,2) == 2\n",
    "assert gcd(2,3) == 1\n",
    "assert gcd(4, 28) == 4\n",
    "assert gcd(1024, 526) == 2"
   ]
  },
  {
   "cell_type": "code",
   "execution_count": null,
   "metadata": {
    "collapsed": true,
    "deletable": false,
    "editable": false,
    "nbgrader": {
     "grade": true,
     "grade_id": "hw42",
     "locked": true,
     "points": "1",
     "solution": false
    }
   },
   "outputs": [],
   "source": [
    "###\n",
    "### AUTOGRADER TEST - DO NOT REMOVE\n",
    "###\n"
   ]
  },
  {
   "cell_type": "code",
   "execution_count": null,
   "metadata": {
    "collapsed": true
   },
   "outputs": [],
   "source": []
  }
 ],
 "metadata": {
  "kernelspec": {
   "display_name": "Python 3 [3.7]",
   "language": "python",
   "name": "python3"
  },
  "language_info": {
   "codemirror_mode": {
    "name": "ipython",
    "version": 3
   },
   "file_extension": ".py",
   "mimetype": "text/x-python",
   "name": "python",
   "nbconvert_exporter": "python",
   "pygments_lexer": "ipython3",
   "version": "3.7.5"
  }
 },
 "nbformat": 4,
 "nbformat_minor": 4
}
