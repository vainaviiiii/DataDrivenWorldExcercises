{
 "cells": [
  {
   "cell_type": "markdown",
   "metadata": {
    "colab_type": "text",
    "deletable": false,
    "editable": false,
    "id": "g0LMv3Q31kfv",
    "nbgrader": {
     "grade": false,
     "locked": true,
     "solution": false
    }
   },
   "source": [
    "# Week 6 Problem Set\n",
    "\n",
    "## Homeworks"
   ]
  },
  {
   "cell_type": "markdown",
   "metadata": {
    "colab_type": "text",
    "deletable": false,
    "editable": false,
    "id": "WKJna8701laN",
    "nbgrader": {
     "grade": false,
     "locked": true,
     "solution": false
    }
   },
   "source": [
    "**HW1.** Extend the class `Fraction` to implement the other operators: `- * < <= > >=`."
   ]
  },
  {
   "cell_type": "code",
   "execution_count": 23,
   "metadata": {
    "colab": [],
    "colab_type": "code",
    "collapsed": true,
    "id": "v9-ULbHV1o7c"
   },
   "outputs": [],
   "source": [
    "def gcd(a, b):\n",
    "    if b == 0:\n",
    "        return a\n",
    "    else:\n",
    "        return gcd(b, a % b)\n",
    "\n",
    "\n",
    "class Fraction:\n",
    "    def __init__(self, num, den):\n",
    "        ###BEGIN SOLUTION\n",
    "        self.num = num # set attributes via the SETTER\n",
    "        self.den = den\n",
    "        ###END SOLUTION\n",
    "        pass\n",
    "    \n",
    "    @property\n",
    "    def num(self):\n",
    "        ###BEGIN SOLUTION\n",
    "        return self._numattr\n",
    "        ###END SOLUTION\n",
    "        pass\n",
    "    \n",
    "    @num.setter\n",
    "    def num(self, val):\n",
    "        ###BEGIN SOLUTION \n",
    "        self._numattr = int(val) # this creates attribute _num IF it does not exist already, else this modifies existing attr _num\n",
    "        ###END SOLUTION\n",
    "        pass\n",
    "    \n",
    "    @property\n",
    "    def den(self):\n",
    "        ###BEGIN SOLUTION\n",
    "        return self._denattr\n",
    "        ###END SOLUTION\n",
    "        pass\n",
    "    \n",
    "    @den.setter\n",
    "    def den(self, val):\n",
    "        ###BEGIN SOLUTION\n",
    "        if (int(val) == 0):\n",
    "            self._denattr = 1\n",
    "        else:\n",
    "            self._denattr = int(val)\n",
    "        ###END SOLUTION\n",
    "        pass\n",
    "    \n",
    "    def __str__(self):\n",
    "        ###BEGIN SOLUTION\n",
    "        # 3/5\n",
    "        return f\"{self.num}/{self.den}\"\n",
    "        ###END SOLUTION\n",
    "        pass\n",
    "    \n",
    "    def simplify(self):\n",
    "        common = gcd(self.num, self.den)\n",
    "        num = self.num//common\n",
    "        den = self.den//common\n",
    "        return Fraction(num, den)\n",
    "\n",
    "    def __sub__(self, other):\n",
    "        a = self.num\n",
    "        b = self.den\n",
    "        c = other.num\n",
    "        d = other.den\n",
    "        num = a*d - b*c\n",
    "        den = b*d\n",
    "        return Fraction(num, den).simplify()\n",
    "    \n",
    "    def __add__(self, other):\n",
    "        a = self.num\n",
    "        b = self.den\n",
    "        c = other.num\n",
    "        d = other.den\n",
    "        num = a*d + b*c\n",
    "        den = b*d\n",
    "        return Fraction(num,den).simplify()\n",
    "\n",
    "    \n",
    "    def __mul__(self, other):\n",
    "        res_num = self.num * other.num\n",
    "        res_den = self.den * other.den\n",
    "        return Fraction(res_num, res_den).simplify()\n",
    "        pass\n",
    "    \n",
    "    def __eq__(self, other):\n",
    "        left = self.simplify()\n",
    "        right = other.simplify()\n",
    "        return left.num == right.num and left.den == right.den\n",
    "        pass\n",
    "    \n",
    "    def __lt__(self, other):\n",
    "        gcd_val = gcd(self.den, other.den)\n",
    "        if self.den > other.den:\n",
    "            other.den *= gcd_val\n",
    "            other.num *= gcd_val\n",
    "        elif self.den < other.den:\n",
    "            self.den *= gcd_val\n",
    "            self.num *= gcd_val\n",
    "        if self.num < other.num:\n",
    "            return True\n",
    "        pass\n",
    "    \n",
    "    def __le__(self, other):\n",
    "        gcd_val = gcd(self.den, other.den)\n",
    "        if self.den > other.den:\n",
    "            other.den *= gcd_val\n",
    "            other.num *= gcd_val\n",
    "        elif self.den < other.den:\n",
    "            self.den *= gcd_val\n",
    "            self.num *= gcd_val\n",
    "        if self.num <= other.num:\n",
    "            return True\n",
    "        pass\n",
    "    \n",
    "    def __gt__(self, other):\n",
    "        gcd_val = gcd(self.den, other.den)\n",
    "        if self.den > other.den:\n",
    "            other.den *= gcd_val\n",
    "            other.num *= gcd_val\n",
    "        elif self.den < other.den:\n",
    "            self.den *= gcd_val\n",
    "            self.num *=gcd_val\n",
    "            \n",
    "        if self.num > other.num:\n",
    "            return True\n",
    "\n",
    "\n",
    "    def __ge__(self, other):\n",
    "        gcd_val = gcd(self.den, other.den)\n",
    "        if self.den > other.den:\n",
    "            other.den *= gcd_val\n",
    "            other.num *= gcd_val\n",
    "        elif self.den < other.den:\n",
    "            self.den *= gcd_val\n",
    "            self.num *=gcd_val\n",
    "        if self.num >= other.num:\n",
    "            return True\n",
    "    \n"
   ]
  },
  {
   "cell_type": "code",
   "execution_count": 24,
   "metadata": {
    "colab": [],
    "colab_type": "code",
    "deletable": false,
    "editable": false,
    "id": "jXDkET9n4Wfu",
    "nbgrader": {
     "grade": true,
     "grade_id": "hw11",
     "locked": true,
     "points": "1",
     "solution": false
    }
   },
   "outputs": [],
   "source": [
    "f1 = Fraction(3, 4)\n",
    "f2 = Fraction(1, 2)\n",
    "f3 = f1 - f2\n",
    "assert f3 == Fraction(1, 4)\n",
    "f4 = f1 * f2\n",
    "assert f4 == Fraction(3, 8)\n",
    "assert f2 < f1\n",
    "assert f2 <= f2\n",
    "assert f1 > f3\n",
    "assert f3 >= f3"
   ]
  },
  {
   "cell_type": "code",
   "execution_count": 25,
   "metadata": {
    "collapsed": true,
    "deletable": false,
    "editable": false,
    "nbgrader": {
     "grade": true,
     "grade_id": "hw12",
     "locked": true,
     "points": "1",
     "solution": false
    }
   },
   "outputs": [],
   "source": [
    "###\n",
    "### AUTOGRADER TEST - DO NOT REMOVE\n",
    "###\n"
   ]
  },
  {
   "cell_type": "code",
   "execution_count": 26,
   "metadata": {
    "colab": [],
    "colab_type": "code",
    "collapsed": true,
    "id": "pcZ4SJM944CU"
   },
   "outputs": [],
   "source": [
    "# Copy your solution from the Cohort problem\n",
    "class MixedFraction(Fraction):\n",
    "    def __init__(self, top, bot, whole=0):\n",
    "        num = whole * bot + top\n",
    "        super().__init__(num, bot)\n",
    "    \n",
    "    def get_three_numbers(self):\n",
    "        whole = self.num // self.den\n",
    "        top = self.num % self.den\n",
    "        bot = self.den\n",
    "        return top, bot, whole\n",
    "\n",
    "    def __str__(self):\n",
    "        (top, bot, whole) = self.get_three_numbers()\n",
    "        if whole > 0:\n",
    "            return (f\"{whole} {top}/{bot}\")\n",
    "        else:\n",
    "            return super().__str__()\n"
   ]
  },
  {
   "cell_type": "code",
   "execution_count": 27,
   "metadata": {
    "colab": [],
    "colab_type": "code",
    "collapsed": true,
    "deletable": false,
    "editable": false,
    "id": "-wXfzqpN4rTF",
    "nbgrader": {
     "grade": true,
     "grade_id": "hw13",
     "locked": true,
     "points": "1",
     "solution": false
    }
   },
   "outputs": [],
   "source": [
    "mf1 = MixedFraction(5, 3)\n",
    "assert mf1.num == 5 and mf1.den == 3\n",
    "assert mf1.get_three_numbers() == (2, 3, 1)\n",
    "mf2 = MixedFraction(2, 3, 1)\n",
    "assert mf2.num == 5 and mf2.den == 3\n",
    "\n",
    "result = mf1 + mf2\n",
    "assert result.num == 10 and result.den == 3\n",
    "\n",
    "result = mf1 * mf2\n",
    "assert result.num == 25 and result.den == 9\n",
    "\n",
    "mf3 = MixedFraction(1, 2, 1)\n",
    "result = mf1 - mf3\n",
    "assert result.num == 1 and result.den == 6\n",
    "\n",
    "assert str(mf1) == \"1 2/3\""
   ]
  },
  {
   "cell_type": "code",
   "execution_count": 28,
   "metadata": {
    "collapsed": true,
    "deletable": false,
    "editable": false,
    "nbgrader": {
     "grade": true,
     "grade_id": "hw14",
     "locked": true,
     "points": "1",
     "solution": false
    }
   },
   "outputs": [],
   "source": [
    "###\n",
    "### AUTOGRADER TEST - DO NOT REMOVE\n",
    "###\n"
   ]
  },
  {
   "cell_type": "markdown",
   "metadata": {
    "colab_type": "text",
    "deletable": false,
    "editable": false,
    "id": "OReYTNxv5mY0",
    "nbgrader": {
     "grade": false,
     "locked": true,
     "solution": false
    }
   },
   "source": [
    "**HW2.** Write a class called `EvaluateFraction` that evaluates postfix notation implemented using Dequeue data structures only. Postfix notation is a way of writing expressions without using parenthesis. For example, the expression `(1+2)*3` would be written as `1 2 + 3 *`. The class `EvaluateFraction` has the following method:\n",
    "- `input(inp)`: which pushes the input input one at a time. For example, to create a postfix notation `1 2 + 3 *`, we can call this method repetitively, e.g. `e.input('1'); e.input('2'); e.input('+'); e.input('3'); e.input('*')`. Notice that the input is of String data type. \n",
    "- `evaluate()`: which returns the output of the expression.\n",
    "- `get_fraction(inp)`: which takes in an input string and returns a `Fraction` object. \n",
    "\n",
    "Postfix notation is evaluated using a Stack. Since `Dequeue` can be used for both Stack and Queue, we will implement using `Dequeue`. The input streams from `input()` are stored in a Queue, which we will again implement using Dequeue. If the output of the Queue is a number, the item is pushed into the stack. If it is an operator, we will apply the operator to the two top most item n the stacks and push the result back into the stack. "
   ]
  },
  {
   "cell_type": "code",
   "execution_count": 29,
   "metadata": {
    "collapsed": true
   },
   "outputs": [],
   "source": [
    "class Stack:\n",
    "    def __init__(self):\n",
    "        self.items = []\n",
    "        \n",
    "    @property\n",
    "    def is_empty(self):\n",
    "        return self.items == []\n",
    "    \n",
    "    @property\n",
    "    def size(self):\n",
    "        return len(self.items)\n",
    "    \n",
    "    def push(self, items):\n",
    "        self.items.append(items)\n",
    "        \n",
    "    def pop(self):\n",
    "        return self.items.pop()\n",
    "    \n",
    "    def peek(self):\n",
    "        return self.items[-1]\n"
   ]
  },
  {
   "cell_type": "code",
   "execution_count": 30,
   "metadata": {
    "collapsed": true
   },
   "outputs": [],
   "source": [
    "class Queue:\n",
    "    def __init__(self):\n",
    "        self.left_stack = Stack()\n",
    "        self.right_stack = Stack()\n",
    "    @property\n",
    "    def is_empty(self):\n",
    "        return self.left_stack.is_empty and self.right_stack.is_empty\n",
    "    @property\n",
    "    def size(self):\n",
    "        return self.left_stack.size + self.right_stack.size\n",
    "    def enqueue(self, item):\n",
    "        self.right_stack.push(item)\n",
    "    def dequeue(self):\n",
    "        if self.left_stack.is_empty:\n",
    "            self.left_stack.items = self.right_stack.items[:]\n",
    "            self.left_stack.items.reverse()\n",
    "            self.right_stack.items = []\n",
    "        return self.left_stack.pop()\n",
    "    def peek(self):\n",
    "        if self.left_stack.is_empty:\n",
    "            if not self.right_stack.is_empty:\n",
    "                return self.right_stack.items[0]\n",
    "        else:\n",
    "            return self.left_stack.peek()"
   ]
  },
  {
   "cell_type": "code",
   "execution_count": 31,
   "metadata": {
    "collapsed": true
   },
   "outputs": [],
   "source": [
    "class Dequeue(Queue):\n",
    "    def add_front(self, item):\n",
    "        self.left_stack.push(item)\n",
    "    def remove_front(self):\n",
    "        return self.dequeue()\n",
    "    def add_rear(self, item):\n",
    "        self.enqueue(item)\n",
    "    def remove_rear(self):\n",
    "        if self.right_stack.is_empty:\n",
    "            self.left_to_right()\n",
    "            return self.right_stack.pop()\n",
    "    def left_to_right(self):\n",
    "        while not self.left_stack.is_empty:\n",
    "            item = self.left_stack.pop()\n",
    "            self.right_stack.push(item)\n",
    "    def peek_front(self):\n",
    "        return self.peek()\n",
    "    def peek_rear(self):\n",
    "        if self.right_stack.is_empty:\n",
    "            self.left_to_right()\n",
    "        return self.right_stack.peek()"
   ]
  },
  {
   "cell_type": "code",
   "execution_count": 32,
   "metadata": {
    "colab": [],
    "colab_type": "code",
    "id": "tWgNLbu95zU3"
   },
   "outputs": [],
   "source": [
    "class EvaluateFraction:\n",
    "\n",
    "    operands = \"0123456789\"\n",
    "    operators = \"+-*/\"\n",
    "    \n",
    "    def __init__(self):\n",
    "        self.expression = Dequeue()\n",
    "        self.stack = Dequeue()\n",
    "    \n",
    "    def input(self, item):\n",
    "        self.expression.add_rear(item)\n",
    "    def evaluate(self):\n",
    "        #evaluate(): which returns the output of the expression.\n",
    "        while not self.expression.is_empty:\n",
    "            i = self.expression.remove_front()\n",
    "            # print(f\"i = {i}\")\n",
    "            if i in self.operands:\n",
    "                # print(\"f if i in self.operands ran, with i = {i}\")\n",
    "                self.stack.add_front(i)\n",
    "            elif \"/\" in i:\n",
    "                # print(f\"/ in i ran with i = {i}\")\n",
    "                self.stack.add_front(self.get_fraction(i))\n",
    "                # print(f\"stack.add_front added with {self.stack.peek_front()}\")\n",
    "            elif i in self.operators:\n",
    "                first_val = self.stack.remove_front()\n",
    "                print(f\"first_val = {first_val}\")\n",
    "                operator = i\n",
    "                # print(f\"operator = {i}\")\n",
    "                sec_val = self.stack.remove_front()\n",
    "                print(f\"sec_val = {sec_val}\")\n",
    "                res = self.process_operator(first_val, sec_val, operator)\n",
    "                print(f\"res = {res}\")\n",
    "                self.stack.add_front(res)\n",
    "        return self.stack.remove_rear()\n",
    "    \n",
    "    def get_fraction(self, inp):\n",
    "        i = inp.split('/')\n",
    "        return Fraction(i[0], i[1])\n",
    "    \n",
    "    def process_operator(self, op1, op2, op):\n",
    "        if op == '+':\n",
    "            return op1 + op2\n",
    "        elif op == '-':\n",
    "            return op2 - op1\n",
    "        elif op == '*':\n",
    "            return op1 * op2\n",
    "# pe = EvaluateFraction()\n",
    "# pe.input(\"1/2\")\n",
    "# pe.input(\"2/3\")\n",
    "# pe.input(\"+\")\n",
    "# assert pe.evaluate()==Fraction(7, 6)\n"
   ]
  },
  {
   "cell_type": "code",
   "execution_count": 33,
   "metadata": {
    "colab": [],
    "colab_type": "code",
    "deletable": false,
    "editable": false,
    "id": "yOLzhfsO7maP",
    "nbgrader": {
     "grade": true,
     "grade_id": "hw21",
     "locked": true,
     "points": "1",
     "solution": false
    }
   },
   "outputs": [
    {
     "name": "stdout",
     "output_type": "stream",
     "text": [
      "first_val = 2/3\n",
      "sec_val = 1/2\n",
      "res = 7/6\n",
      "first_val = 2/3\n",
      "sec_val = 1/2\n",
      "res = 7/6\n",
      "first_val = 1/6\n",
      "sec_val = 7/6\n",
      "res = 1/1\n",
      "first_val = 2/3\n",
      "sec_val = 1/2\n",
      "res = 7/6\n",
      "first_val = 1/6\n",
      "sec_val = 7/6\n",
      "res = 1/1\n",
      "first_val = 3/4\n",
      "sec_val = 1/1\n",
      "res = 3/4\n"
     ]
    }
   ],
   "source": [
    "pe = EvaluateFraction()\n",
    "pe.input(\"1/2\")\n",
    "pe.input(\"2/3\")\n",
    "pe.input(\"+\")\n",
    "assert pe.evaluate()==Fraction(7, 6)\n",
    "\n",
    "pe.input(\"1/2\")\n",
    "pe.input(\"2/3\")\n",
    "pe.input(\"+\")\n",
    "pe.input(\"1/6\")\n",
    "pe.input(\"-\")\n",
    "assert pe.evaluate()==Fraction(1, 1)\n",
    "\n",
    "pe.input(\"1/2\")\n",
    "pe.input(\"2/3\")\n",
    "pe.input(\"+\")\n",
    "pe.input(\"1/6\")\n",
    "pe.input(\"-\")\n",
    "pe.input(\"3/4\")\n",
    "pe.input(\"*\")\n",
    "assert pe.evaluate()==Fraction(3, 4)"
   ]
  },
  {
   "cell_type": "code",
   "execution_count": 34,
   "metadata": {
    "collapsed": true,
    "deletable": false,
    "editable": false,
    "nbgrader": {
     "grade": true,
     "grade_id": "hw22",
     "locked": true,
     "points": "1",
     "solution": false
    }
   },
   "outputs": [],
   "source": [
    "###\n",
    "### AUTOGRADER TEST - DO NOT REMOVE\n",
    "###\n"
   ]
  },
  {
   "cell_type": "markdown",
   "metadata": {
    "colab_type": "text",
    "deletable": false,
    "editable": false,
    "id": "ZyzyKowpGA6b",
    "nbgrader": {
     "grade": false,
     "locked": true,
     "solution": false
    }
   },
   "source": [
    "**HW3.** Modify HW2 so that it can work with MixedFraction. Write a class called `EvaluateMixedFraction` as a subclass of `EvaluateFraction`. You need to override the following methods:\n",
    "- `get_fraction(inp)`: This function should be able to handle string input for MixedFraction such as `1 1/2` or `3/2`. It should return a `MixedFraction` object.\n",
    "- `evaluate()`: This function should return `MixedFraction` object rather than `Fraction` object. "
   ]
  },
  {
   "cell_type": "code",
   "execution_count": 35,
   "metadata": {
    "colab": [],
    "colab_type": "code",
    "collapsed": true,
    "id": "wkIPjRLoGGph"
   },
   "outputs": [],
   "source": [
    "class EvaluateMixedFraction(EvaluateFraction):\n",
    "    def get_fraction(self, inp):\n",
    "        if ' ' in inp:\n",
    "            i = inp.split (' ')\n",
    "            whole_num = i[0]\n",
    "            x = i[1].split('/')\n",
    "            num = x[0]\n",
    "            den = x[1]\n",
    "            mixed_num = int(num) + int(den) * int(whole_num)\n",
    "        else:\n",
    "            z = inp.split('/')\n",
    "            mixed_num = z[0]\n",
    "            den = z[1]\n",
    "        return Fraction(mixed_num, den)\n",
    "    \n",
    "    def evaluate(self):\n",
    "        #evaluate(): which returns the output of the expression.\n",
    "        while not self.expression.is_empty:\n",
    "            i = self.expression.remove_front()\n",
    "            # print(f\"i = {i}\")\n",
    "            if i in self.operands:\n",
    "                # print(\"f if i in self.operands ran, with i = {i}\")\n",
    "                self.stack.add_front(i)\n",
    "            elif \"/\" in i:\n",
    "                # print(f\"/ in i ran with i = {i}\")\n",
    "                self.stack.add_front(self.get_fraction(i))\n",
    "                # print(f\"stack.add_front added with {self.stack.peek_front()}\")\n",
    "            elif i in self.operators:\n",
    "                first_val = self.stack.remove_front()\n",
    "                # print(f\"first_val = {first_val}\")\n",
    "                operator = i\n",
    "                # print(f\"operator = {i}\")\n",
    "                sec_val = self.stack.remove_front()\n",
    "                # print(f\"sec_val = {sec_val}\")\n",
    "                res = self.process_operator(first_val, sec_val, operator)\n",
    "                # print(f\"res = {res}\")\n",
    "                self.stack.add_front(res)\n",
    "        answer = self.stack.remove_rear()\n",
    "        return MixedFraction(answer.num, answer.den)"
   ]
  },
  {
   "cell_type": "code",
   "execution_count": 36,
   "metadata": {
    "colab": [],
    "colab_type": "code",
    "deletable": false,
    "editable": false,
    "id": "hXuogyRHHgwb",
    "nbgrader": {
     "grade": true,
     "grade_id": "hw31",
     "locked": true,
     "points": "1",
     "solution": false
    }
   },
   "outputs": [],
   "source": [
    "pe = EvaluateMixedFraction()\n",
    "pe.input(\"3/2\")\n",
    "pe.input(\"1 2/3\")\n",
    "pe.input(\"+\")\n",
    "assert pe.evaluate() == MixedFraction(1, 6, 3)\n",
    "\n",
    "pe.input(\"1/2\")\n",
    "pe.input(\"2/3\")\n",
    "pe.input(\"+\")\n",
    "pe.input(\"1 1/8\")\n",
    "pe.input(\"-\")\n",
    "assert pe.evaluate() == MixedFraction(1, 24)\n",
    "\n",
    "pe.input(\"1 1/2\")\n",
    "pe.input(\"2 2/3\")\n",
    "pe.input(\"+\")\n",
    "pe.input(\"1 1/6\")\n",
    "pe.input(\"-\")\n",
    "pe.input(\"5/4\")\n",
    "pe.input(\"*\")\n",
    "assert pe.evaluate() == MixedFraction( 3, 4, 3)"
   ]
  },
  {
   "cell_type": "code",
   "execution_count": 37,
   "metadata": {
    "collapsed": true,
    "deletable": false,
    "editable": false,
    "nbgrader": {
     "grade": true,
     "grade_id": "hw32",
     "locked": true,
     "points": "1",
     "solution": false
    }
   },
   "outputs": [],
   "source": [
    "###\n",
    "### YOUR CODE HERE\n",
    "###\n"
   ]
  },
  {
   "cell_type": "markdown",
   "metadata": {
    "deletable": false,
    "editable": false,
    "nbgrader": {
     "grade": false,
     "locked": true,
     "solution": false
    }
   },
   "source": [
    "**HW4.** *Linked List:* We are going to implement Linked List Abstract Data Type. To do so, we will implement two classes: `Node` and `MyLinkedList`. In this part, we will implement the class Node.\n",
    "\n",
    "The class `Node` has the following attribute and computed property:\n",
    "- `element`: which stores the value of the item in that node.\n",
    "- `next`: which stores the reference to the next `Node` in the list. The setter method should check if the value assigned is of type `Node`.\n",
    "\n",
    "\n",
    "\n"
   ]
  },
  {
   "cell_type": "code",
   "execution_count": null,
   "metadata": {
    "collapsed": true
   },
   "outputs": [],
   "source": [
    "class Node:\n",
    "    def __init__(self, e):\n",
    "        self.element = e\n",
    "        self.__next = None\n",
    "               \n",
    "    @property\n",
    "    def next(self):\n",
    "        return self.__next\n",
    "    \n",
    "    @next.setter\n",
    "    def next(self, value):\n",
    "        # check if value is an instance of Node object\n",
    "        # you can use isinstance() function\n",
    "        if isinstance(value, Node):\n",
    "            self.__next = value\n"
   ]
  },
  {
   "cell_type": "markdown",
   "metadata": {
    "deletable": false,
    "editable": false,
    "nbgrader": {
     "grade": false,
     "locked": true,
     "solution": false
    }
   },
   "source": [
    "**HW5.** This is a continuation to implement a Linked List. The class `MyLinkedList` has two different properties:\n",
    "- `head`: which points to the `Node` of the first element.\n",
    "- `tail`: which points to the `Node` of the last element.\n",
    "\n",
    "It should also have the following methods:\n",
    "- `__init__(items)`: which create the link list object based using the arguments.\n",
    "- `get(index)`: which returns the item at the given `index`.\n",
    "- `add_first(item)`: which adds the `item` as the first element.\n",
    "- `add_last(item)`: which adds the `item` as the last element.\n",
    "- `add_at(index, item)`: which adds the `item` at the position `index`.\n",
    "- `remove_first(item)`: which removes the `item` as the first element.\n",
    "- `remove_last(item)`: which removes the `item` as the last element.\n",
    "- `remove_at(index, item)`: which removes the `item` at the position `index`.\n"
   ]
  },
  {
   "cell_type": "code",
   "execution_count": 38,
   "metadata": {},
   "outputs": [
    {
     "ename": "SyntaxError",
     "evalue": "invalid syntax (<ipython-input-38-2a149f1d8728>, line 52)",
     "output_type": "error",
     "traceback": [
      "\u001b[0;36m  File \u001b[0;32m\"<ipython-input-38-2a149f1d8728>\"\u001b[0;36m, line \u001b[0;32m52\u001b[0m\n\u001b[0;31m    else:\u001b[0m\n\u001b[0m       ^\u001b[0m\n\u001b[0;31mSyntaxError\u001b[0m\u001b[0;31m:\u001b[0m invalid syntax\n"
     ]
    }
   ],
   "source": [
    "# copy your solution for MyAbstractList from the Cohort problems\n",
    "\n",
    "import collections.abc as c\n",
    "\n",
    "class MyAbstractList(c.Iterator):\n",
    "    size = 0\n",
    "    _idx = 0\n",
    "    def __init__(self, list_items):\n",
    "        # iterate over every element and call self.add(item)\n",
    "        self.size = 0\n",
    "        self._idx = 0\n",
    "        for item in list_items:\n",
    "            self.append(item)\n",
    "            \n",
    "    @property\n",
    "    def is_empty(self):\n",
    "        return self.size == 0\n",
    "    \n",
    "    def append(self, item):\n",
    "    # call add_at() method here\n",
    "        self.add_at(self.size, item)\n",
    "        \n",
    "    def remove(self, item):\n",
    "    # you should use remove_at() method here\n",
    "        index = self.index_of(item)\n",
    "        if index > 0:\n",
    "            self.remove_at(index)\n",
    "            return True\n",
    "        \n",
    "    def __getitem__(self, index):\n",
    "        return self.get(index)\n",
    "    \n",
    "    def __setitem__(self, index, value):\n",
    "        self.set_at(index, value)\n",
    "        \n",
    "    def __delitem__(self, index):\n",
    "    # call remove_at() method here\n",
    "        self.remove_at(index)\n",
    "        \n",
    "    def __len__(self):\n",
    "        return self.size\n",
    "    \n",
    "    def __iter__(self):\n",
    "        self._idx = 0\n",
    "        return self\n",
    "    \n",
    "    def __next__(self):\n",
    "        if self._idx < self.size:\n",
    "            n_item = self.get(self._idx)\n",
    "            self._idx += 1\n",
    "        return n_item\n",
    "    else:\n",
    "        raise StopIteration"
   ]
  },
  {
   "cell_type": "code",
   "execution_count": 42,
   "metadata": {},
   "outputs": [
    {
     "ename": "IndentationError",
     "evalue": "unexpected indent (<ipython-input-42-2063dad819dc>, line 48)",
     "output_type": "error",
     "traceback": [
      "\u001b[0;36m  File \u001b[0;32m\"<ipython-input-42-2063dad819dc>\"\u001b[0;36m, line \u001b[0;32m48\u001b[0m\n\u001b[0;31m    curr_node = self.head\u001b[0m\n\u001b[0m    ^\u001b[0m\n\u001b[0;31mIndentationError\u001b[0m\u001b[0;31m:\u001b[0m unexpected indent\n"
     ]
    }
   ],
   "source": [
    "class MyLinkedList(MyAbstractList):\n",
    "    def __init__(self, items):\n",
    "        self.head = None\n",
    "        self.tail = None\n",
    "        super().__init__(items)\n",
    "        \n",
    "    def get(self, index):\n",
    "        # do the following:\n",
    "        # 1. traverse to the node at index\n",
    "        # 2. return the element of that node\n",
    "        if self.head == None:\n",
    "            return\n",
    "        else:\n",
    "            curr_index = self.head\n",
    "            counter = 0\n",
    "        while counter != index:\n",
    "            curr_index = curr_index.next\n",
    "            counter += 1\n",
    "        return curr_index.element\n",
    "    def add_first(self, element):\n",
    "        # 1. create a new Node object using element\n",
    "        # 2. set the current head reference as the next reference of the new node\n",
    "        # 3. increase size by 1\n",
    "        # 4. if this is the last element (no tail) -> set the current node as the tail\n",
    "        n = Node(element)\n",
    "        if self.head == None:\n",
    "            self.head = n\n",
    "            self.tail = n\n",
    "        else:\n",
    "            n.next = self.head\n",
    "            self.head = n\n",
    "            self.size += 1\n",
    "    def add_last(self, element):\n",
    "        n = Node(element)\n",
    "        if self.tail == None:\n",
    "            self.head = n\n",
    "            self.tail = n\n",
    "        else:\n",
    "            self.tail.next = n\n",
    "            self.tail = n\n",
    "            self.size += 1\n",
    "    def add_at(self, index, element):\n",
    "        if index == 0:\n",
    "            self.add_first(element)\n",
    "        elif index >= self.size:\n",
    "            self.add_last(element)\n",
    "        else:n = Node(element)\n",
    "            curr_node = self.head\n",
    "            counter = 0\n",
    "        while counter != index - 1:\n",
    "            curr_node = curr_node.next\n",
    "            counter += 1\n",
    "            prev_node = curr_node\n",
    "            temp = curr_node.next\n",
    "            curr_node = n\n",
    "            prev_node.next = curr_node\n",
    "            curr_node.next = temp\n",
    "            self.size += 1\n",
    "    def set_at(self, index, element):\n",
    "        if 0 <= index < self.size:\n",
    "            current = self.head\n",
    "            for idx in range(0, index):\n",
    "                current = current.next\n",
    "                current.element = element\n",
    "    def remove_first(self):\n",
    "        if self.size == 0:\n",
    "            return None\n",
    "        else:\n",
    "            temp = self.head\n",
    "            self.head = temp.next\n",
    "            self.size -= 1\n",
    "            if self.head == None:\n",
    "                self.tail = None\n",
    "            return temp\n",
    "    def remove_last(self):\n",
    "        if self.size == 0:\n",
    "        # if the list is empty, return None\n",
    "            return None\n",
    "        elif self.size == 1:\n",
    "            temp = self.head\n",
    "            self.head = None\n",
    "            self.tail = None\n",
    "            self.size -= 1\n",
    "        return temp\n",
    "        else:\n",
    "            curr_node = self.head\n",
    "            counter = 0\n",
    "            while counter != self.size - 1:\n",
    "                curr_node = curr_node.next\n",
    "                counter += 1\n",
    "            temp = self.tail\n",
    "            self.tail = curr_node\n",
    "            self.tail.next = None\n",
    "            self.size -= 1\n",
    "            return temp\n",
    "    def remove_at(self, index):\n",
    "        if index < 0 or index >= self.size:\n",
    "            return None\n",
    "        elif index == 0:\n",
    "            return self.remove_first()\n",
    "        elif index == self.size - 1:\n",
    "            return self.remove_last()\n",
    "        else:\n",
    "            curr_node = self.head\n",
    "            counter = 0\n",
    "            while counter != index - 1:\n",
    "                curr_node = curr_node.next\n",
    "                counter += 1\n",
    "            temp = curr_node.next\n",
    "            curr_node.next = temp.next\n",
    "            self.size -= 1\n",
    "            return temp"
   ]
  },
  {
   "cell_type": "code",
   "execution_count": 43,
   "metadata": {
    "deletable": false,
    "editable": false,
    "nbgrader": {
     "grade": true,
     "grade_id": "hw51",
     "locked": true,
     "points": "1",
     "solution": false
    }
   },
   "outputs": [
    {
     "ename": "NameError",
     "evalue": "name 'MyLinkedList' is not defined",
     "output_type": "error",
     "traceback": [
      "\u001b[0;31m---------------------------------------------------------------------------\u001b[0m",
      "\u001b[0;31mNameError\u001b[0m                                 Traceback (most recent call last)",
      "\u001b[0;32m<ipython-input-43-a077f4d07f1d>\u001b[0m in \u001b[0;36m<module>\u001b[0;34m\u001b[0m\n\u001b[0;32m----> 1\u001b[0;31m \u001b[0masean\u001b[0m \u001b[0;34m=\u001b[0m \u001b[0mMyLinkedList\u001b[0m\u001b[0;34m(\u001b[0m\u001b[0;34m[\u001b[0m\u001b[0;34m'Singapore'\u001b[0m\u001b[0;34m,\u001b[0m \u001b[0;34m'Malaysia'\u001b[0m\u001b[0;34m]\u001b[0m\u001b[0;34m)\u001b[0m\u001b[0;34m\u001b[0m\u001b[0m\n\u001b[0m\u001b[1;32m      2\u001b[0m \u001b[0;32massert\u001b[0m \u001b[0masean\u001b[0m\u001b[0;34m.\u001b[0m\u001b[0mhead\u001b[0m\u001b[0;34m.\u001b[0m\u001b[0melement\u001b[0m \u001b[0;34m==\u001b[0m \u001b[0;34m'Singapore'\u001b[0m\u001b[0;34m\u001b[0m\u001b[0m\n\u001b[1;32m      3\u001b[0m \u001b[0;32massert\u001b[0m \u001b[0masean\u001b[0m\u001b[0;34m.\u001b[0m\u001b[0mtail\u001b[0m\u001b[0;34m.\u001b[0m\u001b[0melement\u001b[0m \u001b[0;34m==\u001b[0m \u001b[0;34m'Malaysia'\u001b[0m\u001b[0;34m\u001b[0m\u001b[0m\n\u001b[1;32m      4\u001b[0m \u001b[0;34m\u001b[0m\u001b[0m\n\u001b[1;32m      5\u001b[0m \u001b[0masean\u001b[0m\u001b[0;34m.\u001b[0m\u001b[0mappend\u001b[0m\u001b[0;34m(\u001b[0m\u001b[0;34m'Indonesia'\u001b[0m\u001b[0;34m)\u001b[0m\u001b[0;34m\u001b[0m\u001b[0m\n",
      "\u001b[0;31mNameError\u001b[0m: name 'MyLinkedList' is not defined"
     ]
    }
   ],
   "source": [
    "asean = MyLinkedList(['Singapore', 'Malaysia'])\n",
    "assert asean.head.element == 'Singapore'\n",
    "assert asean.tail.element == 'Malaysia'\n",
    "\n",
    "asean.append('Indonesia')\n",
    "assert asean.tail.element == 'Indonesia'\n",
    "asean.add_at(0, 'Brunei')\n",
    "assert asean.head.element == 'Brunei'\n",
    "assert asean.size == 4\n",
    "assert len(asean) == 4\n",
    "\n",
    "asean[0] = 'Cambodia'\n",
    "assert asean[0] == 'Cambodia' and asean[1] == 'Singapore'\n",
    "asean[2] = 'Myanmar'\n",
    "assert(len(asean)) == 4 \n",
    "assert [x for x in asean] == ['Cambodia', 'Singapore', 'Myanmar', 'Indonesia']\n",
    "\n",
    "del asean[0]\n",
    "assert [x for x in asean] == ['Singapore', 'Myanmar', 'Indonesia']\n",
    "\n",
    "asean.add_at(2, 'Brunei')\n",
    "assert [x for x in asean] == ['Singapore', 'Myanmar', 'Brunei', 'Indonesia']\n",
    "del asean[3]\n",
    "assert [x for x in asean] == ['Singapore', 'Myanmar', 'Brunei']\n",
    "del asean[1]\n",
    "assert [x for x in asean] == ['Singapore', 'Brunei']\n",
    "del asean[1]\n",
    "assert [x for x in asean] == ['Singapore']\n",
    "del asean[0]\n",
    "assert [x for x in asean] == []"
   ]
  },
  {
   "cell_type": "code",
   "execution_count": 41,
   "metadata": {
    "collapsed": true,
    "deletable": false,
    "editable": false,
    "nbgrader": {
     "grade": true,
     "grade_id": "hw52",
     "locked": true,
     "points": "1",
     "solution": false
    }
   },
   "outputs": [],
   "source": [
    "###\n",
    "### AUTOGRADER TEST - DO NOT REMOVE\n",
    "###\n"
   ]
  },
  {
   "cell_type": "code",
   "execution_count": null,
   "metadata": {
    "collapsed": true
   },
   "outputs": [],
   "source": []
  }
 ],
 "metadata": {
  "kernelspec": {
   "display_name": "Python 3 [3.7]",
   "language": "python",
   "name": "python3"
  },
  "language_info": {
   "codemirror_mode": {
    "name": "ipython",
    "version": 3
   },
   "file_extension": ".py",
   "mimetype": "text/x-python",
   "name": "python",
   "nbconvert_exporter": "python",
   "pygments_lexer": "ipython3",
   "version": "3.7.5"
  }
 },
 "nbformat": 4,
 "nbformat_minor": 4
}
