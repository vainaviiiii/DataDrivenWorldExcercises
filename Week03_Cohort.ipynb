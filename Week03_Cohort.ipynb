{
 "cells": [
  {
   "cell_type": "markdown",
   "metadata": {
    "colab_type": "text",
    "deletable": false,
    "editable": false,
    "id": "5UB5OHFfqSOs",
    "nbgrader": {
     "grade": false,
     "locked": true,
     "solution": false
    }
   },
   "source": [
    "# Week 3 Problem Set\n",
    "\n",
    "## Cohort Sessions\n",
    "\n",
    "**CS1.** You have implemented factorial using iteration in Problem Set 1. Now, implement the factorial problem using a recursion. The function should takes in an Integer input and returns and Integer output which is the factorial of the input. Recall that:\n",
    "\n",
    "$n! = n \\times (n-1) \\times (n-2) \\times \\ldots \\times 2 \\times 1$\n",
    "\n",
    "You should consider the case when $n$ is zero and one as well. "
   ]
  },
  {
   "cell_type": "code",
   "execution_count": 2,
   "metadata": {
    "colab": [],
    "colab_type": "code",
    "collapsed": true,
    "id": "sHaonVRkq7AF"
   },
   "outputs": [],
   "source": [
    "# recursion\n",
    "def factorial_recursion(n):\n",
    "    if n == 1 or n == 0:\n",
    "        return 1\n",
    "    else:\n",
    "        return n * factorial_recursion(n-1)"
   ]
  },
  {
   "cell_type": "code",
   "execution_count": 3,
   "metadata": {
    "collapsed": true,
    "deletable": false,
    "editable": false,
    "nbgrader": {
     "grade": true,
     "grade_id": "cs11",
     "locked": true,
     "points": "1",
     "solution": false
    }
   },
   "outputs": [],
   "source": [
    "assert factorial_recursion(0) == 1\n",
    "assert factorial_recursion(1) == 1\n",
    "assert factorial_recursion(5) == 120\n",
    "assert factorial_recursion(7) == 5040\n",
    "assert factorial_recursion(11) == 39916800"
   ]
  },
  {
   "cell_type": "code",
   "execution_count": 4,
   "metadata": {
    "collapsed": true,
    "deletable": false,
    "editable": false,
    "nbgrader": {
     "grade": true,
     "grade_id": "cs12",
     "locked": true,
     "points": "1",
     "solution": false
    }
   },
   "outputs": [],
   "source": [
    "###\n",
    "### AUTOGRADER TEST - DO NOT REMOVE\n",
    "###\n"
   ]
  },
  {
   "cell_type": "markdown",
   "metadata": {
    "colab_type": "text",
    "deletable": false,
    "editable": false,
    "id": "BC_u9lsArNJN",
    "nbgrader": {
     "grade": false,
     "locked": true,
     "solution": false
    }
   },
   "source": [
    "**CS2.** *Helper Function:* Write a function `palindrome(s)`to check if the string `s` is a [Palindrome](https://en.wikipedia.org/wiki/Palindrome). To do this, write another function `is_palindrome(s, left, right)` where `left` and `right` are indices from the left and from the right to check the character in `str`. Use recursion instead of iteration in this problem.\n"
   ]
  },
  {
   "cell_type": "code",
   "execution_count": 5,
   "metadata": {
    "colab": [],
    "colab_type": "code",
    "collapsed": true,
    "id": "rm_5U8O8rhEh"
   },
   "outputs": [],
   "source": [
    "def palindrome(s):\n",
    "    return is_palindrome(s, 0, len(s)-1)\n",
    "\n",
    "def is_palindrome(s, left, right):\n",
    "    if right <=  left:\n",
    "        return True\n",
    "    elif s[left] != s[right]:\n",
    "        return False\n",
    "    else:\n",
    "        return is_palindrome(s,left+1,right-1)"
   ]
  },
  {
   "cell_type": "code",
   "execution_count": 6,
   "metadata": {
    "collapsed": true,
    "deletable": false,
    "editable": false,
    "nbgrader": {
     "grade": true,
     "grade_id": "cs21",
     "locked": true,
     "points": "1",
     "solution": false
    }
   },
   "outputs": [],
   "source": [
    "assert not palindrome(\"moon\") \n",
    "assert palindrome(\"noon\") \n",
    "assert palindrome(\"a a\") \n",
    "assert palindrome(\"ada\") \n",
    "assert not palindrome(\"ad a\") "
   ]
  },
  {
   "cell_type": "code",
   "execution_count": 7,
   "metadata": {
    "collapsed": true,
    "deletable": false,
    "editable": false,
    "nbgrader": {
     "grade": true,
     "grade_id": "cs22",
     "locked": true,
     "points": "1",
     "solution": false
    }
   },
   "outputs": [],
   "source": [
    "###\n",
    "### AUTOGRADER TEST - DO NOT REMOVE\n",
    "###\n"
   ]
  },
  {
   "cell_type": "markdown",
   "metadata": {
    "colab_type": "text",
    "deletable": false,
    "editable": false,
    "id": "aodn2sO1sNkc",
    "nbgrader": {
     "grade": false,
     "locked": true,
     "solution": false
    }
   },
   "source": [
    "**CS3.** *Towers of Hanoi:* Write a function `move_disks(n, from_tower, to_tower, aux_tower)` which returns an array of String for the movement of disks that solves the [Towers of Hanoi problem](https://en.wikipedia.org/wiki/Tower_of_Hanoi). \n",
    "* The first argument `n` is an Integer input that gives information on the number of disk. \n",
    "* The second argument `from_tower` is a String which is the label of the origin tower.\n",
    "* The third argument `to_tower` is a String which is the label of the destination tower.\n",
    "* The last argument `aux_tower` is a String which is the label of the auxilary tower.\n"
   ]
  },
  {
   "cell_type": "code",
   "execution_count": 45,
   "metadata": {
    "colab": {
     "base_uri": "https://localhost:8080/",
     "height": 71
    },
    "colab_type": "code",
    "executionInfo": {
     "elapsed": 793,
     "status": "ok",
     "timestamp": 1573110840424,
     "user": {
      "displayName": "Oka Kurniawan",
      "photoUrl": "https://lh3.googleusercontent.com/a-/AAuE7mAnRP7A15yGfrraUO-0BiNVbNmYjI2f9jaZikjr=s64",
      "userId": "05233922875329103764"
     },
     "user_tz": -480
    },
    "id": "3ZAskdmWsbBz",
    "outputId": "03172fec-5225-46c2-92be-39a9016212ee"
   },
   "outputs": [
    {
     "name": "stdout",
     "output_type": "stream",
     "text": [
      "['Move disk 1 from A to C.', 'Move disk 2 from A to B.', 'Move disk 1 from C to B.']\n"
     ]
    }
   ],
   "source": [
    "# def move_disks(n, from_tower, to_tower, aux_tower):\n",
    "result = []\n",
    "def move_disks(n, from_tower, to_tower, aux_tower):\n",
    "    global result\n",
    "    if n == 1:\n",
    "        return [f'Move disk {n:} from {from_tower:} to {to_tower:}.']\n",
    "    else:\n",
    "        result = move_disks(n-1, from_tower, aux_tower, to_tower)\n",
    "        result += [f'Move disk {n:} from {from_tower:} to {to_tower:}.']\n",
    "        result += move_disks(n-1, aux_tower, to_tower, from_tower)\n",
    "        return result\n",
    "    \n",
    "result = move_disks(2, \"A\", \"B\", \"C\")\n",
    "print(result)"
   ]
  },
  {
   "cell_type": "code",
   "execution_count": 46,
   "metadata": {
    "deletable": false,
    "editable": false,
    "nbgrader": {
     "grade": true,
     "grade_id": "cs31",
     "locked": true,
     "points": "1",
     "solution": false
    }
   },
   "outputs": [
    {
     "name": "stdout",
     "output_type": "stream",
     "text": [
      "['Move disk 1 from A to B.', 'Move disk 2 from A to C.', 'Move disk 1 from B to C.', 'Move disk 3 from A to B.', 'Move disk 1 from C to A.', 'Move disk 2 from C to B.', 'Move disk 1 from A to B.']\n",
      "['Move disk 1 from A to C.', 'Move disk 2 from A to B.', 'Move disk 1 from C to B.', 'Move disk 3 from A to C.', 'Move disk 1 from B to A.', 'Move disk 2 from B to C.', 'Move disk 1 from A to C.', 'Move disk 4 from A to B.', 'Move disk 1 from C to B.', 'Move disk 2 from C to A.', 'Move disk 1 from B to A.', 'Move disk 3 from C to B.', 'Move disk 1 from A to C.', 'Move disk 2 from A to B.', 'Move disk 1 from C to B.']\n"
     ]
    }
   ],
   "source": [
    "result = move_disks(3, \"A\", \"B\", \"C\")\n",
    "print(result)\n",
    "assert result == [\"Move disk 1 from A to B.\", \"Move disk 2 from A to C.\", \"Move disk 1 from B to C.\", \"Move disk 3 from A to B.\", \"Move disk 1 from C to A.\", \"Move disk 2 from C to B.\", \"Move disk 1 from A to B.\"]\n",
    "\n",
    "result = move_disks(4, \"A\", \"B\", \"C\")\n",
    "print(result)\n",
    "assert result == [\"Move disk 1 from A to C.\", \"Move disk 2 from A to B.\", \"Move disk 1 from C to B.\", \"Move disk 3 from A to C.\", \"Move disk 1 from B to A.\", \"Move disk 2 from B to C.\", \"Move disk 1 from A to C.\", \"Move disk 4 from A to B.\", \"Move disk 1 from C to B.\", \"Move disk 2 from C to A.\", \"Move disk 1 from B to A.\", \"Move disk 3 from C to B.\", \"Move disk 1 from A to C.\", \"Move disk 2 from A to B.\", \"Move disk 1 from C to B.\"]\n"
   ]
  },
  {
   "cell_type": "code",
   "execution_count": 12,
   "metadata": {
    "collapsed": true,
    "deletable": false,
    "editable": false,
    "nbgrader": {
     "grade": true,
     "grade_id": "cs32",
     "locked": true,
     "points": "1",
     "solution": false
    }
   },
   "outputs": [],
   "source": [
    "###\n",
    "### AUTOGRADER TEST - DO NOT REMOVE\n",
    "###\n"
   ]
  },
  {
   "cell_type": "markdown",
   "metadata": {
    "colab_type": "text",
    "deletable": false,
    "editable": false,
    "id": "8YmeNBxwtpXy",
    "nbgrader": {
     "grade": false,
     "locked": true,
     "solution": false
    }
   },
   "source": [
    "**CS4.** *Merge Sort:* Write functions to implement the Merge Sort algorithm. The first function `mergesort(array)` should takes in an array of Integers in `array`. The function should sort the array in place. The second function `merge(array, p, q, r)` should implements the merge procedure. This function takes in an array of Integers in. `array`, the starting index for the left array `p`, the ending index for the left array `q`, and the ending index for the right array `r`. You can use a helper function for your recursion if needed."
   ]
  },
  {
   "cell_type": "code",
   "execution_count": 16,
   "metadata": {
    "colab": [],
    "colab_type": "code",
    "id": "ErKPh0vsuJrZ"
   },
   "outputs": [],
   "source": [
    "def merge(array, p, q, r):\n",
    "    n1 = q - p + 1\n",
    "    n2 = r - q\n",
    "    left_array = array[p:q+1]\n",
    "    right_array = array[q+1:r+1]\n",
    "    \n",
    "    i=0\n",
    "    j=0\n",
    "    k=p\n",
    "    \n",
    "    while (i < n1) and (j < n2):\n",
    "        if left_array[i] <= right_array[j]:\n",
    "            array[k] = left_array[i]\n",
    "            i += 1\n",
    "        else:\n",
    "            array[k] = right_array[j]\n",
    "            j +=1\n",
    "        k += 1\n",
    "    while (i < n1):\n",
    "        array[k] = left_array[i]\n",
    "        i += 1\n",
    "        k += 1\n",
    "    while (j < n2):\n",
    "        array[k] = right_array[j]\n",
    "        j += 1\n",
    "        k += 1\n",
    "\n",
    "def mergesort_recursive(array, p, r):\n",
    "    if p < r:\n",
    "        q = (p + r) // 2\n",
    "        mergesort_recursive(array, p, q)\n",
    "        mergesort_recursive(array, q+1, r)\n",
    "        merge(array, p, q, r)\n",
    "    \n",
    "    \n",
    "def mergesort(array):\n",
    "    mergesort_recursive(array, 0, len(array)-1)\n",
    "    print(array)\n",
    "\n"
   ]
  },
  {
   "cell_type": "code",
   "execution_count": 17,
   "metadata": {
    "deletable": false,
    "editable": false,
    "nbgrader": {
     "grade": true,
     "grade_id": "cs41",
     "locked": true,
     "points": "1",
     "solution": false
    }
   },
   "outputs": [
    {
     "name": "stdout",
     "output_type": "stream",
     "text": [
      "[1, 2, 2, 3, 4, 5, 6, 7]\n"
     ]
    }
   ],
   "source": [
    "input_array = [5, 2, 4, 7, 1, 3, 2, 6]\n",
    "mergesort(input_array)\n",
    "assert input_array == [1, 2, 2, 3, 4, 5, 6, 7]"
   ]
  },
  {
   "cell_type": "code",
   "execution_count": 15,
   "metadata": {
    "collapsed": true,
    "deletable": false,
    "editable": false,
    "nbgrader": {
     "grade": true,
     "grade_id": "cs42",
     "locked": true,
     "points": "1",
     "solution": false
    }
   },
   "outputs": [],
   "source": [
    "###\n",
    "### AUTOGRADER TEST - DO NOT REMOVE\n",
    "###\n"
   ]
  }
 ],
 "metadata": {
  "colab": {
   "collapsed_sections": [],
   "name": "Week03_ProblemSet.ipynb",
   "provenance": []
  },
  "kernelspec": {
   "display_name": "Python 3 [3.7]",
   "language": "python",
   "name": "python3"
  },
  "language_info": {
   "codemirror_mode": {
    "name": "ipython",
    "version": 3
   },
   "file_extension": ".py",
   "mimetype": "text/x-python",
   "name": "python",
   "nbconvert_exporter": "python",
   "pygments_lexer": "ipython3",
   "version": "3.7.5"
  }
 },
 "nbformat": 4,
 "nbformat_minor": 4
}
